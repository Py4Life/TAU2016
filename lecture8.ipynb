{
 "cells": [
  {
   "cell_type": "markdown",
   "metadata": {},
   "source": [
    "[![Py4Life](https://raw.githubusercontent.com/Py4Life/TAU2015/gh-pages/img/Py4Life-logo-small.png)](http://py4life.github.io/TAU2015/)\n",
    "\n",
    "## Lecture 8 - 18.5.2016\n",
    "### Last update: 17.5.2016\n",
    "### Tel-Aviv University / 0411-3122 / Spring 2016"
   ]
  },
  {
   "cell_type": "markdown",
   "metadata": {},
   "source": [
    "# Previously\n",
    "\n",
    "- Data analysis\n",
    "- Summary statistics\n",
    "- Data visualization\n",
    "- Packages: [NumPy](http://www.numpy.org/), [Matplotlib](http://matplotlib.org/), [Pandas](pandas.pydata.org), [Seaborn](http://stanford.edu/~mwaskom/software/seaborn/)"
   ]
  },
  {
   "cell_type": "markdown",
   "metadata": {},
   "source": [
    "# Today\n",
    "\n",
    "- Sochastic processes\n",
    "- Probability distributions\n",
    "- Random numbers\n",
    "- Simulations\n",
    "- the [SciPy](http://www.scipy.org/scipylib/index.html) package: provides many user-friendly and efficient numerical integration and optimization, probability distributions, and special mathematical functions."
   ]
  },
  {
   "cell_type": "code",
   "execution_count": null,
   "metadata": {
    "collapsed": false
   },
   "outputs": [],
   "source": [
    "%matplotlib inline\n",
    "import matplotlib.pyplot as plt\n",
    "import numpy as np\n",
    "from scipy import stats \n",
    "import seaborn as sns\n",
    "sns.set_style('white')\n",
    "sns.set_context('talk', font_scale=1.2)\n",
    "sns.set_palette(sns.color_palette('Set1'))\n",
    "#sns.palplot(sns.color_palette(\"Set1\",5))"
   ]
  },
  {
   "cell_type": "markdown",
   "metadata": {},
   "source": [
    "## Random Numbers\n",
    "In today's lecture we will extensively use random number generators.\n",
    "\n",
    "We will do so using [numpy.random](http://docs.scipy.org/doc/numpy-1.10.1/reference/routines.random.html).\n",
    "\n",
    "numpy.random contains many functions that have the ability of generating numbers in accordance with a specific distribution.\n",
    "\n",
    "For example:\n",
    "\n",
    "[numpy.random.random(n)](http://docs.scipy.org/doc/numpy-1.10.1/reference/generated/numpy.random.random.html#numpy.random.random) creates an array of size `n` with random floats from the interval `[0,1)` with a uniform distribution - equal probability for all numbers within this range.\n",
    "\n",
    "[numpy.random.random_integers(a,b,n)](http://docs.scipy.org/doc/numpy-1.10.1/reference/generated/numpy.random.random_integers.html#numpy.random.random_integers) creates an array of size `n`, of randomly generated integers of between `a` and `b`, with equal probability for each integer.\n",
    "[numpy.random.binomial(n,p,s)](http://docs.scipy.org/doc/numpy-1.10.1/reference/generated/numpy.random.binomial.html#numpy.random.binomial) creates an array of size `s`, of randomly generated integers according to binomial distribution with `n` trials and probability `p` for success.\n",
    "\n",
    "[numpy.random.normal(m,s,n)](http://docs.scipy.org/doc/numpy-1.10.1/reference/generated/numpy.random.normal.html#numpy.random.normal) creates an array of size `n`, of randomly generated floats according to a normal distribution with mean `m` and standard deviation `s`.\n",
    "\n",
    "[numpy.random.poisson(lam,n)](http://docs.scipy.org/doc/numpy-1.10.1/reference/generated/numpy.random.poisson.html#numpy.random.poisson) creates an array of size `n`, of randomly generated integers according to a poisson distribution with mean `lam`.\n"
   ]
  },
  {
   "cell_type": "code",
   "execution_count": null,
   "metadata": {
    "collapsed": false
   },
   "outputs": [],
   "source": [
    "print('uniform[0,1) - ',np.random.random(),'\\n')\n",
    "print('uniform[0,1) - ',np.random.random(3),'\\n')\n",
    "print('uniform_integers - ',np.random.random_integers(3,7,5),'\\n')\n",
    "print('binomial - ',np.random.binomial(5,0.5,5),'\\n')\n",
    "print('normal - \\n',np.random.normal(0,1,(3,3)))"
   ]
  },
  {
   "cell_type": "markdown",
   "metadata": {},
   "source": [
    "How can we be sure this is indeed random? in accordance with the desired distribution?\n",
    "We can test:"
   ]
  },
  {
   "cell_type": "code",
   "execution_count": null,
   "metadata": {
    "collapsed": false
   },
   "outputs": [],
   "source": [
    "plt.hist(np.random.random(10)); # is 10 enough?"
   ]
  },
  {
   "cell_type": "code",
   "execution_count": null,
   "metadata": {
    "collapsed": false
   },
   "outputs": [],
   "source": [
    "plt.hist(np.random.normal(0,1,10000),bins=30,color='b');"
   ]
  },
  {
   "cell_type": "markdown",
   "metadata": {},
   "source": [
    "# Stochastic processes\n",
    "\n",
    "Stochastic processes are models that describe change through time in the state of a system subject to random events and noise.\n",
    "The randomness takes into account the variability observed in real-world phenomena. \n",
    "The simplest example is [Polya's urn](http://en.wikipedia.org/wiki/P%C3%B3lya_urn_model):\n",
    "\n",
    "## Polya's Urn\n",
    "\n",
    "Imagine an urn with two balls, half of them are blue and half of them are red. \n",
    "At each turn of the game, a random ball is drawn from the urn, and then returned together with an additional ball of the same color.\n",
    "The system is the urn, the state of the system is the number of red and blue balls.\n",
    "The randomness is given by the random draw of balls, and the system evolves from state to state by chance.\n",
    "Denoting the number of red balls after $t$ draws by $n_t$, we can formulate the model by (the total number of balls after $t$ draws is $t+2$):\n",
    "\n",
    "$\n",
    "n_{t+1} = \\left\\{\\begin{matrix}\n",
    "n_t + 1, & \\frac{n_t}{t+2}\\\\ \n",
    "n_t, & 1-\\frac{n_t}{t+2}\n",
    "\\end{matrix}\\right.\n",
    "$\n",
    "\n",
    "In this process one of the colors will take over after some time:"
   ]
  },
  {
   "cell_type": "code",
   "execution_count": null,
   "metadata": {
    "collapsed": false
   },
   "outputs": [],
   "source": [
    "time = 1000\n",
    "#randoms = np.random.rand(time)\n",
    "red = np.ones(time)\n",
    "blue = np.ones(time)\n",
    "\n",
    "for t in range(1,time):\n",
    "    red_freq = red[t-1]/(red[t-1] + blue[t-1])\n",
    "    random = np.random.rand()\n",
    "    draw_red = (random < red_freq)\n",
    "    draw_blue = ~draw_red\n",
    "    red[t] = red[t-1] + draw_red\n",
    "    blue[t] = blue[t-1] + draw_blue\n",
    "\n",
    "fig,ax = plt.subplots(1, 2)#, sharex=True, sharey=False)\n",
    "ax[0].plot(red)\n",
    "ax[0].plot(blue)\n",
    "ax[0].set_xlabel('# draws')\n",
    "ax[0].set_ylabel('# balls')\n",
    "ax[1].plot(red/(red + blue))\n",
    "ax[1].set_xlabel('# draws')\n",
    "ax[1].set_ylabel('% red')\n",
    "sns.despine()\n",
    "fig.tight_layout()"
   ]
  },
  {
   "cell_type": "markdown",
   "metadata": {},
   "source": [
    "Notably, even stochastic processes that *seems* simple (easy to explain) have complex dynamics (hard to predict).\n",
    "For example: What is the average time at least 99% of the urn is of the same color? What is the probability to have $k$ reds after $t$ draws? To those interested, read about [Martingales](http://en.wikipedia.org/wiki/Martingale_%28probability_theory%29)."
   ]
  },
  {
   "cell_type": "markdown",
   "metadata": {},
   "source": [
    "## Branching process\n",
    "\n",
    "One of the simplest stochastic process is the Branching process of the [Galton-Wason process](http://en.wikipedia.org/wiki/Galton%E2%80%93Watson_process). \n",
    "\n",
    "There was concern amongst the Victorians that aristocratic surnames were becoming extinct. \n",
    "\n",
    "Francis Galton originally posed the question regarding the probability of such an event in the _Educational Times_ of 1873, and the Reverend Henry William Watson replied with a solution (Watson & Galton, 1875). \n",
    "\n",
    "The process models family names as patrilineal (passed from father to son), while offspring are randomly either male or female, and names become extinct if the family name line dies out (holders of the family name die without male descendants). \n",
    "\n",
    "This is an accurate description of Y chromosome transmission in genetics, and the model is thus useful for understanding human Y-chromosome DNA haplogroups, and is also of use in understanding other processes (as described below); but its application to actual extinction of family names is fraught. In practice, family names change for many other reasons, and dying out of name line is only one factor.\n",
    "\n",
    "To make matters a bit easier we will assume that if _N_ people have the same surname than it is protected from extinction. \n",
    "We further simplify the model by assuming that each male has $n$ offspring and each offspring has a probability $p$ to be male and reach reproductive age."
   ]
  },
  {
   "cell_type": "markdown",
   "metadata": {},
   "source": [
    "![branching](https://github.com/Py4Life/TAU2016/blob/master/lec10_images/branching.png?raw=true)"
   ]
  },
  {
   "cell_type": "code",
   "execution_count": null,
   "metadata": {
    "collapsed": false
   },
   "outputs": [],
   "source": [
    "sns.set_palette(sns.color_palette('muted'))\n",
    "N = 1000\n",
    "n = 3\n",
    "p = 0.35 # probability for a reproductive son"
   ]
  },
  {
   "cell_type": "markdown",
   "metadata": {},
   "source": [
    "We simulate a Branching process on the finite space ${0, 1, ..., N}$. \n",
    "Each state represents the population size - the number of males with the same surname. \n",
    "\n",
    "We assume that at each time step $t$ each male has $n$ offspring.\n",
    "Each one of the offspring has a probability $p$ to become a reproductive male.\n",
    "So $1-p$ includes female offspring and male offspring that do not reach reproductive age.\n",
    "\n",
    "So the number of reproducrive boys per male has a Binomial distribution $B(n,p)$:\n",
    "\n",
    "Representing the probability for `K` successes, within `n` trials, when the probability for success in one trial is `p`."
   ]
  },
  {
   "cell_type": "markdown",
   "metadata": {},
   "source": [
    "## Exercise - drawing random numbers from the Binomial distribution\n",
    "\n",
    "We can draw numbers from a Binomial distribution using `numpy.random.binomial`:\n",
    "\n",
    "- Use the `binomial` function in NumPy to draw random numbers.\n",
    "- Plot the histogram of the numbers you've drawn\n",
    "- Notice how the histogram changes everytime you run the code.\n",
    "- Compare the histogram to the [binomial distribution](http://en.wikipedia.org/wiki/Binomial_distribution) probability mass function.\n",
    "\n",
    "Histograms are plotted using Matplotlib's `hist` function or you could use `seaborn.distplot` to plot the histogram with a density plot on top."
   ]
  },
  {
   "cell_type": "code",
   "execution_count": null,
   "metadata": {
    "collapsed": false
   },
   "outputs": [],
   "source": [
    "# You can change these values\n",
    "size = 10000\n",
    "n = 3\n",
    "p = 0.34\n",
    "# Your code goes here!"
   ]
  },
  {
   "cell_type": "markdown",
   "metadata": {},
   "source": [
    "- How large should `size` be?\n",
    "- Does it depend on the choice of `n` and `p`?\n",
    "- Try to add the keyword argument `bins` to the `hist` function with a value of `100`."
   ]
  },
  {
   "cell_type": "markdown",
   "metadata": {},
   "source": [
    "## First simulation\n",
    "\n",
    "Based on the assumptions above, the probability that a male has $k$ boys that will reach reproductive age is:\n",
    "\n",
    "$$\n",
    "{n \\choose k} p^k (1-p)^{n - k}.\n",
    "$$\n",
    "\n",
    "To get the total number of males in the next generation we need to draw lots of samples from this Binomial distribution and sum all the numbers. But the sum of many identical Binomial distributions is also a Binomial distribution. \n",
    "So if at generation $t$ we have $x_t$ males, then at generation $t+1$ the probability that the number of males is $k$ is:\n",
    "\n",
    "$$\n",
    "{n x_{t} \\choose k} p^k (1-p)^{n x_{t} - k}\n",
    "$$\n",
    "\n",
    "This only depends on the number of males in generation $t$ - $x_t$ (the Markovian _lack of memory_ trait).\n",
    "Note that if the number of males reaches _0_ or _N_, the process stops.\n",
    "\n",
    "The `num_males` array will contain the **population size at each generation**.\n",
    "We fill it with zeros just as placeholders and put the initial family size, 10, in the first element of the array.\n",
    "\n",
    "We then loop over all the generations and at each generation we randomly draw the number of children in the next generation and update the `num_males` array."
   ]
  },
  {
   "cell_type": "code",
   "execution_count": null,
   "metadata": {
    "collapsed": false
   },
   "outputs": [],
   "source": [
    "N = 1000\n",
    "n = 3\n",
    "p = 0.35\n",
    "\n",
    "ngenerations = 100\n",
    "num_males = np.zeros(ngenerations)\n",
    "num_males[0] = 10\n",
    "\n",
    "for t in range(ngenerations - 1):\n",
    "    if 0 < num_males[t] < N:\n",
    "        # Update the number of males in the next generation\n",
    "        num_males[t+1] = np.random.binomial(n * num_males[t], p)\n",
    "    # The process is absorbed in 0 and N\n",
    "    else:\n",
    "        num_males[t+1] = num_males[t]\n",
    "\n",
    "plt.plot(num_males)\n",
    "plt.xlabel('# generations')\n",
    "plt.ylabel('# males');"
   ]
  },
  {
   "cell_type": "markdown",
   "metadata": {},
   "source": [
    "We see that at every time step the number of males can stay stable, increase, or\n",
    "decrease.\n",
    "\n",
    "Run the simulation code again. Each time you run it you will get something else!"
   ]
  },
  {
   "cell_type": "markdown",
   "metadata": {},
   "source": [
    "## Multiple simulations\n",
    "\n",
    "Now, we will simulate many independent families. \n",
    "\n",
    "We define a function that performs the simulation. \n",
    "\n",
    "At every time step, we find the families that have not reached the absorbing states 0 and $N$, and we update the number of males with array operations:"
   ]
  },
  {
   "cell_type": "code",
   "execution_count": null,
   "metadata": {
    "collapsed": true
   },
   "outputs": [],
   "source": [
    "def simulate(num_males, ngenerations):\n",
    "    for t in range(ngenerations):\n",
    "        for i in range(len(num_males)):\n",
    "            # Which families to update? Only ones that are not absorbed yet\n",
    "            if 0 < num_males[i] < N:\n",
    "                boys = np.random.binomial(num_males[i] * n, p)\n",
    "                # We update the population size for the non-absorbed families.\n",
    "                num_males[i] = boys"
   ]
  },
  {
   "cell_type": "markdown",
   "metadata": {},
   "source": [
    "This is not very efficient (two nested for loops). \n",
    "We can vectorize the simulation by considering all independent families at once. \n",
    "There is a single loop over time. \n",
    "\n",
    "At every time step, we update all families simultaneously with vectorized operations on vectors."
   ]
  },
  {
   "cell_type": "code",
   "execution_count": null,
   "metadata": {
    "collapsed": false
   },
   "outputs": [],
   "source": [
    "def simulate2(num_males, ngenerations):\n",
    "    for t in range(ngenerations):\n",
    "        # Which families to update? Only ones that are not absorbed yet\n",
    "        update = (0 < num_males) & (num_males < N)\n",
    "        # In which families do male births occur?\n",
    "        boys = np.random.binomial(num_males[update] * n, p)\n",
    "        # We update the population size for the non-absorbed families.\n",
    "        num_males[update] = boys"
   ]
  },
  {
   "cell_type": "code",
   "execution_count": null,
   "metadata": {
    "collapsed": false
   },
   "outputs": [],
   "source": [
    "### reminder ###\n",
    "x = 3\n",
    "num_males = np.array([0,1,2,3,2,3,1,3,0])\n",
    "update = (0 < num_males) & (num_males < x)\n",
    "print(update)\n",
    "num_males[update] = 6\n",
    "print(num_males)"
   ]
  },
  {
   "cell_type": "markdown",
   "metadata": {},
   "source": [
    "Now, let's look at the histograms of the number of males at different times.\n",
    "These histograms represent the probability distribution of the Stochastic process over many replicates (many surnames),\n",
    "estimated with independent families (this is often called the _Monte Carlo method_):"
   ]
  },
  {
   "cell_type": "code",
   "execution_count": null,
   "metadata": {
    "collapsed": false
   },
   "outputs": [],
   "source": [
    "N = 1000\n",
    "nfamilies = 100\n",
    "n = 3\n",
    "p = 0.35\n",
    "\n",
    "bins = np.linspace(0, 1.2*N, 100)\n",
    "ngenerations_list = [10, 100, 1000]\n",
    "\n",
    "num_males = np.array([10] * nfamilies)"
   ]
  },
  {
   "cell_type": "code",
   "execution_count": null,
   "metadata": {
    "collapsed": false
   },
   "outputs": [],
   "source": [
    "fig, ax = plt.subplots(1, 3, figsize=(15,5), sharex=True, sharey=False)\n",
    "for i in range(len(ngenerations_list)):\n",
    "    ngenerations = ngenerations_list[i]\n",
    "    simulate(num_males, ngenerations)\n",
    "    print(\"% families extinct:\", (num_males==0).mean())\n",
    "    \n",
    "    ax[i].hist(num_males, bins=bins, color='red')\n",
    "    ax[i].set_title(\"%d generations\" % ngenerations)\n",
    "    \n",
    "    if i == 0:\n",
    "        ax[i].set_ylabel(\"# families\")\n",
    "    if i == 1:\n",
    "        ax[i].set_xlabel(\"# males in family\")\n",
    "sns.despine()\n",
    "fig.tight_layout()"
   ]
  },
  {
   "cell_type": "markdown",
   "metadata": {},
   "source": [
    "Initially, the number of males in all families started at 10.\n",
    "After enough time passed it appears to converge to _0_ or _N_.\n",
    "This is because the states _0_ and _N_ are absorbing; once reached, the chain cannot leave these states.\n",
    "\n",
    "Furthermore, these states can be reached from any other state. \n",
    "From our crude analysis above we see that 1,000 generations are enough for most surnames to either go extinct or reach a size that protects them from extinction (under our simplistic assumptions).\n",
    "\n",
    "Interestingly, the %  of extinct families is a good approximation to the probability of extinction (strating from 10 males)."
   ]
  },
  {
   "cell_type": "markdown",
   "metadata": {},
   "source": [
    "## Exercise - random numbers from the Poisson distribution\n",
    "\n",
    "The [Poisson distribution](https://en.wikipedia.org/wiki/Poisson_distribution) is a commonly used for estimating number of offsprings.\n",
    "The distribution is easy to use because it has a single parameter $\\lambda$ with a clear interpretation: the average of the distribution.\n",
    "\n",
    "We can draw a random number from a Poisson distribution using [numpy.random.poisson](http://docs.scipy.org/doc/numpy-1.10.0/reference/generated/numpy.random.poisson.html). \n",
    "\n",
    "Below is a plot of a histogram (bars) and with an estimation of the distribution (line) of the Poisson distribution:"
   ]
  },
  {
   "cell_type": "code",
   "execution_count": null,
   "metadata": {
    "collapsed": false
   },
   "outputs": [],
   "source": [
    "x = np.random.poisson(lam=10,size=1000)\n",
    "sns.distplot(x, bins=max(x)-min(x))\n",
    "plt.axvline(x=10, color='k')\n",
    "plt.xlabel('Value')\n",
    "plt.ylabel('Frequency')\n",
    "sns.despine()"
   ]
  },
  {
   "cell_type": "markdown",
   "metadata": {},
   "source": [
    "In the code below (copied from the simulation above), the number of sons is distributed Binomially with parameters $n$ and $p$.\n",
    "\n",
    "Change the code so that the number of sons will be Poisson distributed \n",
    "with paramter $\\lambda$ (you can call it `lam` in the code, as `lambda` is a reserved Python word).\n",
    "\n",
    "What is the relationship between $\\lambda$ and $n$ and $p$?"
   ]
  },
  {
   "cell_type": "code",
   "execution_count": null,
   "metadata": {
    "collapsed": false
   },
   "outputs": [],
   "source": [
    "ngenerations = 100\n",
    "num_males = np.zeros(ngenerations)\n",
    "num_males[0] = 10\n",
    "\n",
    "for t in range(ngenerations - 1):\n",
    "    if 0 < num_males[t] < N:\n",
    "        # Update the number of males in the next generation\n",
    "        num_males[t+1] = np.random.binomial(n * num_males[t], p)\n",
    "    # The process is absorbed in 0 and N\n",
    "    else:\n",
    "        num_males[t+1] = num_males[t]\n",
    "\n",
    "plt.plot(num_males)\n",
    "plt.xlabel('# generations')\n",
    "plt.ylabel('# males');"
   ]
  },
  {
   "cell_type": "markdown",
   "metadata": {},
   "source": [
    "## Extinction probability\n",
    "\n",
    "An interesting question regarding Branching processes is: what is the probability that given enough time, a lineage will extinct?\n",
    "\n",
    "Let's rewrite our simulation function to start all sample populations to start with the same number of males and to continue until the number of males has reached an absorbing state - 0 or N.\n",
    "\n",
    "The result of this function will be the final state of each trial population."
   ]
  },
  {
   "cell_type": "code",
   "execution_count": null,
   "metadata": {
    "collapsed": false
   },
   "outputs": [],
   "source": [
    "def simulate(init_num_males, n, p, nfamilies=100):\n",
    "    num_males = init_num_males * np.ones(nfamilies, dtype=int)\n",
    "    update = (0 < num_males) & (num_males < N)\n",
    "    while update.any(): # while at least one of update values is True\n",
    "        # In which trials do births occur?\n",
    "        boys = np.random.binomial(num_males[update] * n, p)\n",
    "        # We update the population size for all trials.\n",
    "        num_males[update] = boys\n",
    "        # Which trials to update?\n",
    "        update = (0 < num_males) & (num_males < N)\n",
    "        \n",
    "    return num_males\n",
    "num_males = simulate(1, n, p)\n",
    "print(num_males,'\\n')\n",
    "print(num_males==0)"
   ]
  },
  {
   "cell_type": "markdown",
   "metadata": {},
   "source": [
    "We can estimate the extinction probability from the fraction of the simulations that ended with an extinction.\n",
    "We can also estimate the standard error of the mean (SEM) as the square root of the sample standard deviation."
   ]
  },
  {
   "cell_type": "code",
   "execution_count": null,
   "metadata": {
    "collapsed": false
   },
   "outputs": [],
   "source": [
    "print((num_males==0).mean())\n",
    "print((num_males==0).std())\n",
    "mean_prob = (num_males==0).mean()\n",
    "sem_prob  = (num_males==0).std() / np.sqrt(len(num_males))\n",
    "print(\"Extinction probability starting from a single male is %.2f ± %.4f\" % (mean_prob, sem_prob))"
   ]
  },
  {
   "cell_type": "markdown",
   "metadata": {},
   "source": [
    "Next we will estimate the extinction probability for different initial number of males and make an errorbar plot."
   ]
  },
  {
   "cell_type": "code",
   "execution_count": null,
   "metadata": {
    "collapsed": false
   },
   "outputs": [],
   "source": [
    "init_num_males_range = range(1,100,5)\n",
    "prob = np.array([simulate(k, n, p)==0 for k in init_num_males_range])\n",
    "print(prob.shape)\n",
    "mean_prob = prob.mean(axis=1) # sum for each row\n",
    "sem_prob = prob.std(axis=1) / np.sqrt(prob.shape[0]) # ste for each row"
   ]
  },
  {
   "cell_type": "code",
   "execution_count": null,
   "metadata": {
    "collapsed": false
   },
   "outputs": [],
   "source": [
    "plt.errorbar(x=init_num_males_range, y=mean_prob, yerr=sem_prob)\n",
    "plt.xlabel('initial # males in family')\n",
    "plt.ylabel('extinction probability')\n",
    "sns.despine()"
   ]
  },
  {
   "cell_type": "markdown",
   "metadata": {},
   "source": [
    "## Exercise - check the theorem\n",
    "\n",
    "It can be proven that:\n",
    "\n",
    "> ### Theorem on extinction probability\n",
    "\n",
    "> If the average number of sons is <= 1 the lineage will go to extinction with probability 1.\n",
    "If the average number of sons is > 1 then the extinction probability is the stationary point of the moment generating function of the distribution of number of sons per male (see Athreya & Ney., 2011).\n",
    "\n",
    "Let's check the theorem. \n",
    "\n",
    "Calculate the extinction probability of a single male for different values of $n \\cdot p$ such that you include both values lower than 1 and higher than 1 and check that the extinction probability is 1 only when the average number of offspring is lower then 1."
   ]
  },
  {
   "cell_type": "code",
   "execution_count": null,
   "metadata": {
    "collapsed": false
   },
   "outputs": [],
   "source": [
    "init_num_males = 1\n",
    "n  = 3\n",
    "\n",
    "# Your code here\n"
   ]
  },
  {
   "cell_type": "code",
   "execution_count": null,
   "metadata": {
    "collapsed": false
   },
   "outputs": [],
   "source": [
    "# More code here"
   ]
  },
  {
   "cell_type": "markdown",
   "metadata": {},
   "source": [
    "## Stationary distribution\n",
    "\n",
    "An interesting fact about some branching processes is that after enough time passsed, \n",
    "the probability to be at a specific state (_i.e._ for the number of males to be $k$) doesn't change from generation to generations.\n",
    "\n",
    "This probability is called a _static distribution_. \n",
    "\n",
    "In the figure above you can see that the distribution for 10,000 and 100,000 generations is the same, \n",
    "so we can find the extinction probability by calculating the probability that there are 0 males after 10,000 generations:\n",
    "\n",
    "To answer this question the model can be written in the following way. \n",
    "We denote by $v(t)=(v_0(t), v_1(t), ..., v_N(t))$ the probabilities that there are 0, 1, ..., $N$ males after $t$ generations.\n",
    "\n",
    "We denote by $P_{i,j}$ the probability that there are $i$ males in generation $t+1$ given that there are $j$ males in generation $t$.\n",
    "$P$ is called the _transition matrix_.\n",
    "\n",
    "![transition](https://github.com/Py4Life/TAU2016/blob/master/lec10_images/transition_matrix.JPG?raw=true)"
   ]
  },
  {
   "cell_type": "markdown",
   "metadata": {},
   "source": [
    "Now, whent trying to calculate the probability of getting to state `i` in time `t+1` we get: \n",
    "\n",
    "$$\n",
    "v_i(t+1) = v_0(t) P_{i,0} + v_1(t) P_{i,1} + ... + v_N(t) P_{i,N} = \\sum_{j=0}^{N}{v_j(t)P_{i,j}}\n",
    "$$\n",
    "\n",
    "or as a matrix equation:\n",
    "$$\n",
    "v(t+1) = P \\cdot v(t)\n",
    "$$\n",
    "\n",
    "This matrix equation can be written and calculated using NumPy arrays.\n",
    "\n",
    "Let's consider a simpler model than before - in this model the population loses a single individual with probability $a$ and gains an individual with probability $b$. This is sometimes called a __birth-death process__ in which $a$ and $b$ are the death and birth rates, respectively.\n",
    "\n",
    "$$\n",
    "P_{i,j} = \\left\\{\\begin{matrix}\n",
    "a & i=j+1\\\\ \n",
    "b & i=j-1\\\\ \n",
    "1-a-b & i=j \\\\\n",
    "0 & otherwise\n",
    "\\end{matrix}\\right.\n",
    "$$\n",
    "\n",
    "So this matrix has a main diagonal with the value $1-a-b$, above it a diagonal with $a$ and below it a diagonal with $b$. Everything else is 0:\n",
    "\n",
    "$$\n",
    "P = \\begin{pmatrix}\n",
    "1-b & a & 0 & ... & ...\\\\\n",
    "b & 1-a-b & a & ... & ...\\\\\n",
    "0 & b & 1-a-b & ... & ...\\\\\n",
    "... & ... & ... & ... & a\\\\\n",
    "... & ... & ... & b & 1-a\\\\\n",
    "\\end{pmatrix}\n",
    "$$\n",
    "\n",
    "We can generate diagonal matrices using NumPy's `diag` function:"
   ]
  },
  {
   "cell_type": "code",
   "execution_count": null,
   "metadata": {
    "collapsed": false
   },
   "outputs": [],
   "source": [
    "N = 1000\n",
    "a = 0.3\n",
    "b = 0.25\n",
    "\n",
    "main_diag  = [1-a-b]*(N+1)\n",
    "lower_diag = [a]*N\n",
    "upper_diag = [b]*N\n",
    "P = np.diag(main_diag) + np.diag(lower_diag, 1) + np.diag(upper_diag, -1)\n",
    "P[0,0] = 1-b\n",
    "P[N,N] = 1-a\n",
    "\n",
    "print(P)\n",
    "assert np.allclose(P.sum(axis=0), 1)"
   ]
  },
  {
   "cell_type": "markdown",
   "metadata": {},
   "source": [
    "Let's assume we start from a lineage of 100 males.\n",
    "We'll iterate the matrix equation for 1000 times.\n",
    "Matrix multiplication is done using NumPy's `dot` function.\n",
    "Remember that order matters in matrix multiplication."
   ]
  },
  {
   "cell_type": "code",
   "execution_count": null,
   "metadata": {
    "collapsed": false
   },
   "outputs": [],
   "source": [
    "v = np.zeros(N+1)\n",
    "v[100] = 1.\n",
    "for _ in range(100):\n",
    "    v = np.dot(P, v)\n",
    "plt.plot(v)\n",
    "plt.xlabel('# males')\n",
    "plt.ylabel('probability')\n",
    "plt.axvline(x=100, color='k')\n",
    "sns.despine()"
   ]
  },
  {
   "cell_type": "markdown",
   "metadata": {},
   "source": [
    "In the previous calculation we used iterations. There is a short cut:\n",
    "$$\n",
    "v(t+2) = P \\cdot v(t+1) = P \\cdot P \\cdot v(t) = P^2 \\cdot p(t) \\Rightarrow \\\\\n",
    "v(t) = P^t \\cdot v(0)\n",
    "$$\n",
    "\n",
    "Matrix power is done using `numpy.linalg.matrix_power`:"
   ]
  },
  {
   "cell_type": "code",
   "execution_count": null,
   "metadata": {
    "collapsed": false
   },
   "outputs": [],
   "source": [
    "v = np.zeros(N+1)\n",
    "v[100] = 1.\n",
    "for generations in (10,100,1000,10000,100000):\n",
    "    u = np.dot(np.linalg.matrix_power(P, generations), v)\n",
    "    plt.plot(u[:200], label=generations)\n",
    "plt.xlabel('# males')\n",
    "plt.ylabel('probability')\n",
    "plt.legend(title=\"Generations\")\n",
    "plt.axvline(x=100, color='k')\n",
    "sns.despine()"
   ]
  },
  {
   "cell_type": "markdown",
   "metadata": {},
   "source": [
    "## References\n",
    "\n",
    "- Watson, HW & Galton, F. 1875. __On the Probability of the Extinction of Families__. _Journal of the Anthropological Institute of Great Britain_, 4:138–144. [PDF](http://galton.org/essays/1870-1879/galton-1874-jaigi-family-extinction.pdf)\n",
    "- Athreya, K.B., Ney, P.E., 2011. __T. E. Harris and branching processes__. arXiv: [1103.2011](http://arxiv.org/abs/1103.2011)."
   ]
  },
  {
   "cell_type": "markdown",
   "metadata": {},
   "source": [
    "## Fin\n",
    "This notebook is part of the _Python Programming for Life Sciences Graduate Students_ course given in Tel-Aviv University, Spring 2015.\n",
    "\n",
    "The notebook was written using [Python](http://pytho.org/) 3.4.1 and [IPython](http://ipython.org/) 2.1.0 (download from [PyZo](http://www.pyzo.org/downloads.html)).\n",
    "\n",
    "The code is available at https://github.com/Py4Life/TAU2015/blob/master/lecture8.ipynb.\n",
    "\n",
    "The notebook can be viewed online at http://nbviewer.ipython.org/github/Py4Life/TAU2015/blob/master/lecture8.ipynb.\n",
    "\n",
    "This work is licensed under a Creative Commons Attribution-ShareAlike 3.0 Unported License.\n",
    "\n",
    "![Python logo](https://www.python.org/static/community_logos/python-logo.png)"
   ]
  }
 ],
 "metadata": {
  "kernelspec": {
   "display_name": "Python 3",
   "language": "python",
   "name": "python3"
  },
  "language_info": {
   "codemirror_mode": {
    "name": "ipython",
    "version": 3
   },
   "file_extension": ".py",
   "mimetype": "text/x-python",
   "name": "python",
   "nbconvert_exporter": "python",
   "pygments_lexer": "ipython3",
   "version": "3.5.1"
  }
 },
 "nbformat": 4,
 "nbformat_minor": 0
}
