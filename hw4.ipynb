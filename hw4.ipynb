{
 "cells": [
  {
   "cell_type": "markdown",
   "metadata": {},
   "source": [
    "## [Python Programming for Biologists, Tel-Aviv University / 0411-3122 / Spring 2016](http://py4life.github.io/TAU2015/)\n",
    "# Homework 4\n",
    "### General instructions\n",
    "- In questions 1 you will have to read and parse files. Download them [here](https://github.com/Py4Life/TAU2015/raw/master/files_for_hw4.rar), extract the rar file and then save the directory to your course directory (or wherever you access the notebooks from).\n",
    "- In questions 2-3 you will have to use regex expressions. Please do your best in solving them!"
   ]
  },
  {
   "cell_type": "markdown",
   "metadata": {},
   "source": [
    "## 1) Parsing $\\lambda$ phage FASTQ\n",
    "The FASTQ file format is commonly used to store deep sequencing reads data. It is similar to the FASTA format, but includes additional information. Each record is represented by four lines:\n",
    "- Line 1 begins with a `@` character and is followed by a sequence identifier and an optional description (like a FASTA title line).\n",
    "- Line 2 is the raw sequence letters.\n",
    "- Line 3 is just a `+` character\n",
    "- Line 4 encodes the quality values for the sequence in Line 2, and must contain the same number of symbols as letters in the sequence.  \n",
    "Sequence quality is encoded with characters from:\n",
    "```\n",
    "!\"#$%&'()*+,-./0123456789:;<=>?@ABCDEFGHIJKLMNOPQRSTUVWXYZ[\\]^_`abcdefghijklmnopqrstuvwxyz{|}~\n",
    "```\n",
    "Where `!` represents the lowest quality, equivalent to a score of 1, and `~` is the highest quality with a score of 94.  \n",
    "\n",
    "The function given below translates the characters into their corresponding scores and returns a dictionary which you can use later. Make sure you understand how to work with this dictionary before proceeding. Note that we use the \\ character inside the string to include the quotation mark that follows it inside the string and not as a string ending (i.e., if we used only \" instead of \\\", the quotation mark tells python that this is the end of the string)."
   ]
  },
  {
   "cell_type": "code",
   "execution_count": null,
   "metadata": {
    "collapsed": false
   },
   "outputs": [],
   "source": [
    "def creates_scores_dict():\n",
    "    scores_string = \"!\\\"#$%&'()*+,-./0123456789:;<=>?@ABCDEFGHIJKLMNOPQRSTUVWXYZ[\\]^_`abcdefghijklmnopqrstuvwxyz{|}~\"\n",
    "    scores_dict = {}\n",
    "    for i,symbol in enumerate(scores_string):\n",
    "        scores_dict[symbol] = i + 1\n",
    "    return scores_dict\n",
    "\n",
    "scores_dict = creates_scores_dict()\n",
    "print(scores_dict)"
   ]
  },
  {
   "cell_type": "markdown",
   "metadata": {},
   "source": [
    "The file `files_for_hw4/lambda_reads.fq` contains 10,000 reads from the sequencing of $\\lambda$ phage. We would like to discard low quality reads. A low quality read is defined as one with a mean score lower than some predefined threshold.  \n",
    "\n",
    "**a)** Write a function `mean_score` that receives a read quality string and returns the mean score (float) of the read. \n",
    "\n",
    "For example, the quality string `!!!!!` is equivalent to the scores `1,1,1,1,1`, and thus the mean is `1.0`. \n",
    "However, the string `49@5<*>=E` is equivalent to the scores `20,25,32,21,28,10,30,29,37` and has a mean of `25.77`."
   ]
  },
  {
   "cell_type": "code",
   "execution_count": null,
   "metadata": {
    "collapsed": false
   },
   "outputs": [],
   "source": [
    "def mean_score(read_quality_string):\n",
    "    # write your code here.\n",
    "    \n",
    "    \n",
    "assert(mean_score('!!!!!') == 1.0)\n",
    "assert(round(mean_score('49@5<*>=E'),2) == 25.78)"
   ]
  },
  {
   "cell_type": "markdown",
   "metadata": {},
   "source": [
    "**b)** Write a function `parse_FASTQ` that parses a FASTQ file. It receives a path to a FASTQ file on the local filesystem and returns a _dictionary_ where keys are sequences and values are the mean scores of the sequences. \n",
    "\n",
    "Use the function on the provided file `files_for_hw4/lambda_reads.fq`.\n",
    "\n",
    "It is recommended to use the `readline()` method of file objects (although other solutions are also possible).\n",
    "Remeber to remove hidden characters in the end of the lines with str.strip()."
   ]
  },
  {
   "cell_type": "code",
   "execution_count": null,
   "metadata": {
    "collapsed": false
   },
   "outputs": [],
   "source": [
    "def parse_FASTQ(file):\n",
    "    # write your code here. \n",
    "    \n",
    "    \n",
    "    \n",
    "# parse lambda reads file  \n",
    "lambda_reads_file = \"files_for_hw4/lambda_reads.fq\"\n",
    "lambda_seqs_dict = parse_FASTQ(lambda_reads_file)"
   ]
  },
  {
   "cell_type": "markdown",
   "metadata": {},
   "source": [
    "**c)** Write a function `filter_reads` that takes the output from section **b** and a score cutoff (integer/float) and prints out the sequences with scores higher than the cutoff. \n",
    "\n",
    "Each sequence will be printed in a separate line (no need to keep the FASTQ format). Try different cutoffs (5,10,20) on the $\\lambda$ phage reads."
   ]
  },
  {
   "cell_type": "code",
   "execution_count": null,
   "metadata": {
    "collapsed": false
   },
   "outputs": [],
   "source": [
    "def filter_reads(seqs_dict,cutoff,out_file):\n",
    "    # your code here. remove the pass statement.\n",
    "    pass\n",
    "    \n",
    "    \n",
    "# run on Lambda reads\n",
    "lambda_filtered_file = \"files_for_hw4/lambda_filtered_reads.txt\"\n",
    "filter_reads(lambda_seqs_dict, 10, lambda_filtered_file)"
   ]
  },
  {
   "cell_type": "markdown",
   "metadata": {},
   "source": [
    "## 2) Regex drills\n",
    "In this question, you don't have to write real code, just write the regular expression you'd use within the quotation marks.  \n",
    "\n",
    "* It is highly recommended to use [The regex Coach](http://www.weitz.de/regex-coach/) for this question.\n",
    "\n",
    "__Reminder from the lecture:__\n",
    "We can put any list of characters within the brackets. There are also a few tricks to make things easier:  \n",
    "* [0-9] - any digit\n",
    "* [a-z] - any letter\n",
    "* [a-p] - any letter between a and p\n",
    "  \n",
    "There are also special symbols for common groups:  \n",
    "* \\d - any digit (equivalent to [0-9])\n",
    "* \\w - any 'word' character - letters, digits and underscore (equivalent to [a-zA-Z0-9\\_)\n",
    "* \\s - any whitespace character - space, tab, newline and other weird stuff (equivalent to [ \\t\\n\\r\\f\\v])\n",
    "  \n",
    "And finally, there's the _wildcard_ symbol, represented by a dot (.).  \n",
    "This means any character (except for a newline).  \n",
    "__Careful with this one!__ It'll take almost anything, so use it wisely.\n",
    "\n",
    "\n",
    "a) Write a regex that will match strings containing any kind of number: positive/negative, integer/float etc. For example, all of the following should be matched: 7 , -3 , 6.14 , -0.00054.\n",
    "* In the lecture we gave one example of representing digits, i.e., \"[0-9]\". You can also use \\d within the string to represnt numbers. Try it!\n",
    "* If you want to treat repetitive characters, you can use '\\*' or '+' after the character. For example, multiple digits can be found with '\\d+'. '*' represents none or multiple repetitions, and '+' represents at least 1 repetition."
   ]
  },
  {
   "cell_type": "code",
   "execution_count": null,
   "metadata": {
    "collapsed": false
   },
   "outputs": [],
   "source": [
    "import re\n",
    "\n",
    "re.compile(r'')"
   ]
  },
  {
   "cell_type": "markdown",
   "metadata": {},
   "source": [
    "b) Write a regex that will match strings that __end__ with a number between 100 and 199, followed by a '.' __or__ a '\\' character.\n",
    "* Enforcing a regex at the end of the string can be done with assigning a dollar sign. For example, the pattern 'xyz\\$' can be found within 'qvwxyz' but not within 'xyza'."
   ]
  },
  {
   "cell_type": "code",
   "execution_count": null,
   "metadata": {
    "collapsed": false
   },
   "outputs": [],
   "source": [
    "re.compile(r'')"
   ]
  },
  {
   "cell_type": "markdown",
   "metadata": {},
   "source": [
    "c) Write a regex that will match whole strings of prices in dollars, such as '100\\$', '2.99\\$', '500.90\\$', but not '7.656\\$', '80.0001\\$' or 'price is: 56.80\\$'."
   ]
  },
  {
   "cell_type": "code",
   "execution_count": null,
   "metadata": {
    "collapsed": false
   },
   "outputs": [],
   "source": [
    "re.compile(r'')"
   ]
  },
  {
   "cell_type": "markdown",
   "metadata": {},
   "source": [
    "d) Write a regex that will match strings beginning with 3 to 8 uppercase letters, followed by at least 4 characters, which can be anything but '%' or '!', and end with 'XY' or 'QW'. \n",
    "* To represent that a character CANNOT be within a string, we'll put it inside square paranthesis with '^' before it. For example, if we want to find a sequence ATNTGCTG that does not contain 'A' in the third position, we'll use the pattern 'AT[^A]TGCTG'."
   ]
  },
  {
   "cell_type": "code",
   "execution_count": null,
   "metadata": {
    "collapsed": false
   },
   "outputs": [],
   "source": [
    "re.compile(r'')"
   ]
  },
  {
   "cell_type": "markdown",
   "metadata": {},
   "source": [
    "## 3) Gene names\n",
    "\n",
    "The code below includes a list of made-up gene names. Complete it to only print gene names that satisfy the following criteria:  \n",
    "1. Contain the letter 'd' __or__ 'e'  \n",
    "2. Contain the letter 'd' __and__ 'e', in that order (not necessarily adjacent)\n",
    "3. Contain three or more digits one after the other. A pattern for finding a specific number of repetitions is by '{min,max}', for exaample, 'a{5,10}' will match a string with 5 to 10 repetitions of 'a'."
   ]
  },
  {
   "cell_type": "code",
   "execution_count": null,
   "metadata": {
    "collapsed": true
   },
   "outputs": [],
   "source": [
    "import re\n",
    "genes = ['xkn59438', 'yhdck2', 'eihd39d9', 'chdsye847', 'hedle3455', 'xjhd53e', '45da', 'de37dp','map492ty']\n",
    "\n",
    "# 1.\n",
    "print('Gene names containing d or e:')\n",
    "regex1 = # write your code here\n",
    "for gene in genes:\n",
    "    # write your code here\n",
    "    \n",
    "        \n",
    "print('------------------------')\n",
    "\n",
    "# 2.\n",
    "print('Gene names containing d and e, in that order:')\n",
    "regex2 = # write your code here\n",
    "\n",
    "        \n",
    "print('------------------------')\n",
    "\n",
    "# 3.\n",
    "print('Gene names containing three digits in a row:')\n",
    "regex3 = # write your code here\n",
    "\n"
   ]
  }
 ],
 "metadata": {
  "kernelspec": {
   "display_name": "Python 3",
   "language": "python",
   "name": "python3"
  },
  "language_info": {
   "codemirror_mode": {
    "name": "ipython",
    "version": 3
   },
   "file_extension": ".py",
   "mimetype": "text/x-python",
   "name": "python",
   "nbconvert_exporter": "python",
   "pygments_lexer": "ipython3",
   "version": "3.5.1"
  }
 },
 "nbformat": 4,
 "nbformat_minor": 0
}
