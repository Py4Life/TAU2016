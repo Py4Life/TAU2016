{
 "cells": [
  {
   "cell_type": "markdown",
   "metadata": {},
   "source": [
    "[![Py4Life](https://raw.githubusercontent.com/Py4Life/TAU2015/gh-pages/img/Py4Life-logo-small.png)](http://py4life.github.io/TAU2015/)\n",
    "\n",
    "## Lecture 5 - 15.4.2015\n",
    "### Last update: 15.4.2015\n",
    "### Tel-Aviv University / 0411-3122 / Spring 2015"
   ]
  },
  {
   "cell_type": "markdown",
   "metadata": {},
   "source": [
    "# Previously\n",
    "\n",
    "- Modules\n",
    "- Files I/O\n",
    "- The CSV format\n",
    "- File parsing\n",
    "- Regular expression\n",
    "\n",
    "# Today\n",
    "\n",
    "- Bugs\n",
    "- Debugging\n",
    "- Tests and assertions\n",
    "- Exceptions\n",
    "\n",
    "# Homework\n",
    "\n",
    "Please submit a project abstract by _May 1st_ via Moodle."
   ]
  },
  {
   "cell_type": "markdown",
   "metadata": {},
   "source": [
    "# Testing & Debugging\n",
    "\n",
    ">  Debugging is twice as hard as writing the code in the first place. Therefore, if you write the code as cleverly as possible, you are, by definition, not smart enough to debug it. __ — B. W. Kernighan and P. J. Plauger, [The Elements of Programming Style](http://www.amazon.com/gp/product/0070342075?ie=UTF8&tag=catv-20&linkCode=as2&camp=1789&creative=390957&creativeASIN=0070342075).__\n",
    "\n",
    "> Code that cannot be tested is flawed.\n",
    "\n",
    "> Why do we never have time to do it right, but always have time to do it over?\n",
    "\n",
    "> Fast, good, cheap: pick any two. - _[Project management triangle](http://en.wikipedia.org/wiki/Project_management_triangle)_\n",
    "\n",
    "![bugs](http://assets.nydailynews.com/polopoly_fs/1.1064084!/img/httpImage/image.jpg_gen/derivatives/landscape_635/bugs01-web.jpg)"
   ]
  },
  {
   "cell_type": "markdown",
   "metadata": {},
   "source": [
    "# Bug categories\n",
    "\n",
    "## Errors\n",
    "\n",
    "`SyntaxError`: Illegal Python code. This error will appear when the program is preparing to run."
   ]
  },
  {
   "cell_type": "code",
   "execution_count": null,
   "metadata": {
    "collapsed": false
   },
   "outputs": [],
   "source": [
    "x = . 5"
   ]
  },
  {
   "cell_type": "markdown",
   "metadata": {},
   "source": [
    "Often the error is precisely indicated, as above, but sometimes you have to search for the error on the previous line.\n",
    "\n",
    "`IndentationError`: a line in the code has bad indentationץ"
   ]
  },
  {
   "cell_type": "code",
   "execution_count": null,
   "metadata": {
    "collapsed": false
   },
   "outputs": [],
   "source": [
    "a = 7\n",
    " b = 5"
   ]
  },
  {
   "cell_type": "markdown",
   "metadata": {},
   "source": [
    "This can be tricky at times, because sometimes the indentation seems OK but Python still complains -- this is usually because the indentation is in spaces when it needs to be in tabs, or vice versa.\n",
    "\n",
    "The next sample of errors are _runtime_ errors - they only appear when the program is running. \n",
    "Therefore, they can be elusive: these bugs don't always appear because they depend on variable values and program flow.\n",
    "\n",
    "`NameError`: A name (variable, function, module) is not defined."
   ]
  },
  {
   "cell_type": "code",
   "execution_count": null,
   "metadata": {
    "collapsed": false
   },
   "outputs": [],
   "source": [
    "b = a + 2"
   ]
  },
  {
   "cell_type": "markdown",
   "metadata": {},
   "source": [
    "Look at the _Traceback_ to see where in the program the error occurs. The most common reasons for a `NameError` are\n",
    "\n",
    "- a misspelled name\n",
    "- a variable that is not initialized\n",
    "- a function that you have forgotten to define\n",
    "- a module that is not imported\n",
    "\n",
    "Working in the IPython Notebook can introduce such errors when you forget to run a cell and use the variables from that cell in another cell.\n",
    "\n",
    "`TypeError`: An object of wrong type is used in an operation."
   ]
  },
  {
   "cell_type": "code",
   "execution_count": null,
   "metadata": {
    "collapsed": false
   },
   "outputs": [],
   "source": [
    "n = 1\n",
    "x = '2'\n",
    "product = (1.0/(n+1))*(x/(1.0+x))**(n+1)"
   ]
  },
  {
   "cell_type": "markdown",
   "metadata": {},
   "source": [
    "Print out objects and their types (here: `print(x, type(x), n, type(n))`), and you will most likely get a surprise. The reason for a `TypeError` is often far away from the line where the `TypeError` occurs.\n",
    "\n",
    "`ValueError`: An object has an illegal value."
   ]
  },
  {
   "cell_type": "code",
   "execution_count": null,
   "metadata": {
    "collapsed": false
   },
   "outputs": [],
   "source": [
    "print(x, type(x), n, type(n))"
   ]
  },
  {
   "cell_type": "code",
   "execution_count": null,
   "metadata": {
    "collapsed": false
   },
   "outputs": [],
   "source": [
    "import math\n",
    "z = -1\n",
    "math.sqrt(z)"
   ]
  },
  {
   "cell_type": "markdown",
   "metadata": {},
   "source": [
    "Print out the value of objects that can be involved in the error (here: `print(z)`).\n",
    "\n",
    "`IndexError`: An index in a list, tuple, or a string is too large."
   ]
  },
  {
   "cell_type": "code",
   "execution_count": null,
   "metadata": {
    "collapsed": false
   },
   "outputs": [],
   "source": [
    "values = [1,27,33,46,52]\n",
    "n = 0\n",
    "for i in range(len(values)):\n",
    "    n += values[i+1]"
   ]
  },
  {
   "cell_type": "markdown",
   "metadata": {},
   "source": [
    "Print out the length of the list, and the index if it involves a variable (here: `print(len(values), i)`)."
   ]
  },
  {
   "cell_type": "code",
   "execution_count": null,
   "metadata": {
    "collapsed": false
   },
   "outputs": [],
   "source": [
    "values = [1,27,33,46,52]\n",
    "n = 0\n",
    "for i in range(len(values)):\n",
    "    print(len(values), i+1)\n",
    "    n += values[i+1]"
   ]
  },
  {
   "cell_type": "markdown",
   "metadata": {},
   "source": [
    "`KeyError`: this is `IndexError`'s cousin; it is raised when looking up non-existant keys in a `dict`. \n",
    "Remember that you can use `dict.get(key, default_value)` to prevent this error."
   ]
  },
  {
   "cell_type": "code",
   "execution_count": null,
   "metadata": {
    "collapsed": false
   },
   "outputs": [],
   "source": [
    "d = {}\n",
    "print(d['a'])"
   ]
  },
  {
   "cell_type": "code",
   "execution_count": null,
   "metadata": {
    "collapsed": false
   },
   "outputs": [],
   "source": [
    "print(d.get('a'))"
   ]
  },
  {
   "cell_type": "markdown",
   "metadata": {},
   "source": [
    "## Exercise 1 - Errors\n",
    "\n",
    "Let's solve the following bugs. Each notebook cell has a single program with at least one bug that may either cause an error or make the program incorrect (producing wrong results).\n",
    "\n",
    "**Fix the code.**"
   ]
  },
  {
   "cell_type": "code",
   "execution_count": null,
   "metadata": {
    "collapsed": false
   },
   "outputs": [],
   "source": [
    "x = '7'\n",
    "y = 8\n",
    "z = x + y\n",
    "print(z)"
   ]
  },
  {
   "cell_type": "code",
   "execution_count": null,
   "metadata": {
    "collapsed": false
   },
   "outputs": [],
   "source": [
    "x = 1\n",
    "y = 0\n",
    "while x < 4:\n",
    "    y += x\n",
    "print(y)"
   ]
  },
  {
   "cell_type": "code",
   "execution_count": null,
   "metadata": {
    "collapsed": false
   },
   "outputs": [],
   "source": [
    "switch = 'on'\n",
    "if switch = 'off':\n",
    "    print('go home')"
   ]
  },
  {
   "cell_type": "code",
   "execution_count": null,
   "metadata": {
    "collapsed": false
   },
   "outputs": [],
   "source": [
    "range()"
   ]
  },
  {
   "cell_type": "code",
   "execution_count": null,
   "metadata": {
    "collapsed": false
   },
   "outputs": [],
   "source": [
    "range(2.5)"
   ]
  },
  {
   "cell_type": "code",
   "execution_count": null,
   "metadata": {
    "collapsed": false
   },
   "outputs": [],
   "source": [
    "range(2,3,0)"
   ]
  },
  {
   "cell_type": "code",
   "execution_count": null,
   "metadata": {
    "collapsed": false
   },
   "outputs": [],
   "source": [
    "counter = 0\n",
    "while counter < 5:\n",
    "    print('hello')\n",
    "    counter += 1\n",
    "while counter < 5:\n",
    "    print('bye')\n",
    "    counter += 1"
   ]
  },
  {
   "cell_type": "markdown",
   "metadata": {},
   "source": [
    "## Logical bugs\n",
    "\n",
    "Some bugs don't cause errors. These are risky because we can easily miss them. For example, this function for the [sum of a geometric series](http://en.wikipedia.org/wiki/Geometric_series#Formula):\n",
    "\n",
    "$$\n",
    "\\sum_{k>=1}{a r^k} = \\frac{a}{1-r}\n",
    "$$"
   ]
  },
  {
   "cell_type": "code",
   "execution_count": null,
   "metadata": {
    "collapsed": true
   },
   "outputs": [],
   "source": [
    "def geosum(a, r):\n",
    "    return a/(1 - r)"
   ]
  },
  {
   "cell_type": "markdown",
   "metadata": {},
   "source": [
    "This works well for some values, causes errors for other values, and gives incorrect results for yet other values:"
   ]
  },
  {
   "cell_type": "code",
   "execution_count": null,
   "metadata": {
    "collapsed": false
   },
   "outputs": [],
   "source": [
    "print(\"Correct:\")\n",
    "print(geosum(1,0), 1)\n",
    "print(geosum(1,0.5), 2)\n",
    "print(geosum(0,0.5), 0)\n",
    "print(geosum(0,2), 0)\n",
    "\n",
    "print(\"Incorrect:\")\n",
    "print(geosum(1,2), \"\\u221e\")\n",
    "print(geosum(-1,2), \"-\\u221e\")\n",
    "print(geosum(2,-1), \"NaN\")\n",
    "\n",
    "print(\"Error:\")\n",
    "print(geosum(1,1))"
   ]
  },
  {
   "cell_type": "markdown",
   "metadata": {},
   "source": [
    "For this kind of bugs we have to write **tests**. \n",
    "\n",
    "The simplest way to do this is using [`assert` statements](https://docs.python.org/3/reference/simple_stmts.html#the-assert-statement). \n",
    "The `assert` command will check a statement and if it is `False` it will raise an `AssertionError`. You can also attach a message explaining why the assertion the failed:"
   ]
  },
  {
   "cell_type": "code",
   "execution_count": null,
   "metadata": {
    "collapsed": false
   },
   "outputs": [],
   "source": [
    "assert geosum(1,0) == 1, \"Bad value\"\n",
    "assert geosum(1,0.5) == 2, \"Bad value\"\n",
    "assert geosum(0,0.5) == 0, \"Bad value\"\n",
    "assert geosum(0,2) == 0, \"Bad value\"\n",
    "\n",
    "assert geosum(1,2) == None, \"Bad value\"\n",
    "assert geosum(-1,2) == None, \"Bad value\"\n",
    "assert geosum(2,-1) == None, \"Bad value\"\n",
    "assert geosum(1,1) == None, \"Bad value\""
   ]
  },
  {
   "cell_type": "markdown",
   "metadata": {},
   "source": [
    "Let's fix the function:"
   ]
  },
  {
   "cell_type": "code",
   "execution_count": null,
   "metadata": {
    "collapsed": true
   },
   "outputs": [],
   "source": [
    "def geosum(a, r):\n",
    "    if a == 0:\n",
    "        return 0.0  # always return same type \n",
    "    elif abs(r) >= 1:\n",
    "        return None # formula only defined for |r|<1\n",
    "    return a/(1 - r)"
   ]
  },
  {
   "cell_type": "code",
   "execution_count": null,
   "metadata": {
    "collapsed": false
   },
   "outputs": [],
   "source": [
    "assert geosum(1,0) == 1, \"Bad value\"\n",
    "assert geosum(1,0.5) == 2, \"Bad value\"\n",
    "assert geosum(0,0.5) == 0, \"Bad value\"\n",
    "assert geosum(0,2) == 0, \"Bad value\"\n",
    "\n",
    "assert geosum(1,2) == None, \"Bad value\"\n",
    "assert geosum(-1,2) == None, \"Bad value\"\n",
    "assert geosum(2,-1) == None, \"Bad value\"\n",
    "assert geosum(1,1) == None, \"Bad value\""
   ]
  },
  {
   "cell_type": "markdown",
   "metadata": {},
   "source": [
    "There are more sophisticated ways to write tests. \n",
    "The [unittest](https://docs.python.org/3/library/unittest.html) module is a good starting point and [nose](https://nose.readthedocs.org/en/latest/) is _nicer testing for Python_."
   ]
  },
  {
   "cell_type": "markdown",
   "metadata": {},
   "source": [
    "## Exercise 2 - test\n",
    "\n",
    "Below is a function that calculates the length of the largest side of a right triangle given the lengths of the other two sides using the [Pythagorean theorem](http://en.wikipedia.org/wiki/Pythagorean_theorem):\n",
    "\n",
    "$$\n",
    "a^2 + b^2 = c^2\n",
    "$$\n",
    "\n",
    "![Pythagorean theorem](http://upload.wikimedia.org/wikipedia/commons/thumb/d/d2/Pythagorean.svg/265px-Pythagorean.svg.png)"
   ]
  },
  {
   "cell_type": "code",
   "execution_count": null,
   "metadata": {
    "collapsed": true
   },
   "outputs": [],
   "source": [
    "def pythagoras(a,b):\n",
    "    return math.sqrt(a**2 + b**2)"
   ]
  },
  {
   "cell_type": "markdown",
   "metadata": {},
   "source": [
    "Write a series of assertions to test the function."
   ]
  },
  {
   "cell_type": "code",
   "execution_count": null,
   "metadata": {
    "collapsed": true
   },
   "outputs": [],
   "source": [
    "# Your code goes here"
   ]
  },
  {
   "cell_type": "markdown",
   "metadata": {},
   "source": [
    "## Live debugging - find genes in a sequence\n",
    "\n",
    "We will write a program that looks for genes (or open reading frames) in a DNA sequence.\n",
    "\n",
    "How do we go about it? Let's make a plan.\n",
    "\n",
    "### The plan\n",
    "\n",
    "1. What _exactly_ do we want?\n",
    "\n",
    "2. What is the input and output?\n",
    "\n",
    "3. Example\n",
    "\n",
    "4. Algorithm - one function to check if a sequence is a gene; one function to look for gene candidates in a sequence\n",
    "\n",
    "5. Implementation"
   ]
  },
  {
   "cell_type": "markdown",
   "metadata": {},
   "source": [
    "#### 1. What _exactly_ do we want?\n",
    "\n",
    "We want to find all genes in a DNA sequence, including overlapping genes, but only on the sequence, not on its complement.\n",
    "\n",
    "A valid gene: (i) contains only the bases AGCT, (ii) starts with a start codon (ATG), (iii) ends with a stop codon (TAG, TGA, TAA), (iv) its length is a multiple of three, (v) and doesn't contain a stop codon in a position that is a multiple of three.\n",
    "\n",
    "#### 2. What is the input and output?\n",
    "\n",
    "Input: string.\n",
    "\n",
    "Output: list of strings.\n",
    "\n",
    "#### 3. Example\n",
    "\n",
    "Our example is GCCGTTTGTACTCCATTCCA**ATGAGGTCGCTTC|ATGTCAGCGAGTTTTAA**CGTGGTTCTTCGCTG**A|TGTGCTGTATATGA**.\n",
    "\n",
    "This is a good example because it is (i) not too short to be trivial, (ii) not too long to be unreadable, (iii) contains genes in at least two different open reading frames and (iv) overlapping genes.\n",
    "\n",
    "- Input: `GCCGTTTGTACTCCATTCCAATGAGGTCGCTTCATGTCAGCGAGTTTTAACGTGGTTCTTCGCTGATGTGCTGTATATGA`\n",
    "- Output: `['ATGAGGTCGCTTCATGTCAGCGAGTTTTAA', 'ATGTCAGCGAGTTTTAACGTGGTTCTTCGCTGA', 'ATGTGCTGTATATGA']`\n",
    "\n",
    "#### 4. Algorithm\n",
    "\n",
    "Here is a skeleton of our program with a **test case** (_i.e._ assertion), which, of course, fails for now. \n",
    "This is called [_test driven development_](http://en.wikipedia.org/wiki/Test-driven_development) (it may sound like this is only for \"serious\" programmers. The contrary is true - it's very beneficial for less expirienced programmers)."
   ]
  },
  {
   "cell_type": "code",
   "execution_count": null,
   "metadata": {
    "collapsed": false
   },
   "outputs": [],
   "source": [
    "def is_gene(sequence):\n",
    "    # check if sequence is a gene\n",
    "    return False\n",
    "\n",
    "def find_genes(sequence):\n",
    "    # find all genes in sequence\n",
    "    return []\n",
    "\n",
    "seq = 'GCCGTTTGTACTCCATTCCAATGAGGTCGCTTCATGTCAGCGAGTTTTAACGTGGTTCTTCGCTGATGTGCTGTATATGA'\n",
    "genes = find_genes(seq)\n",
    "assert len(genes) == 3, \"Found %d genes, expected 3\" % len(genes)\n",
    "print(\"Success\")"
   ]
  },
  {
   "cell_type": "markdown",
   "metadata": {},
   "source": [
    "#### 5. Implementation\n",
    "\n",
    "Here is the code that implements the program.\n",
    "\n",
    "Now we must test and debug!"
   ]
  },
  {
   "cell_type": "code",
   "execution_count": null,
   "metadata": {
    "collapsed": false
   },
   "outputs": [],
   "source": [
    "bases = \"ACGT\"\n",
    "start = \"ATG\"\n",
    "stops = [\"TAg\",\"TGG\",\"TAA\"]\n",
    "\n",
    "def is_gene(sequence):\n",
    "    if len(seqeunce) < 5: # check minimum length \n",
    "    return False\n",
    "    if len(sequence) % 3 ! 0: # check length divides by 3\n",
    "    return False\n",
    "    if sequence[1:3] != start: # check start codon\n",
    "    return False\n",
    "    # check stop codon\n",
    "    if sequence[-3:] not in stops: \n",
    "    return False\n",
    "    # check only legal characters\n",
    "    for c in sequence: \n",
    "        if c not in bases:\n",
    "        return False\n",
    "    # check no stop codons in the middle \n",
    "    for i in range(0, len(sequence) - 3, 3): \n",
    "        if sequence[i:i+3] in stops:\n",
    "        return False\n",
    "    return \"True\"\n",
    "\n",
    "def find_genes(sequence):\n",
    "    start_idx = []\n",
    "    for i in range(len(sequence)):\n",
    "        if sequence[i,i+3] == start:\n",
    "          start_idx.append(i)    \n",
    "    stop_idx = []\n",
    "    for i in range(len(sequence)):\n",
    "        if sequence[i,i+3] == stops:\n",
    "          stop_idx.append(i)    \n",
    "    for i == start_idx:\n",
    "    for j == stop_idx:\n",
    "        if j <= i and j-i % 3 == 0:\n",
    "          gene = sequence[i,j+3]\n",
    "          if is_gene(genes):\n",
    "              genes.append(genes)\n",
    "    return gene\n",
    "\n",
    "seq = 'GCCGTTTGTACTCCATTCCAATGAGGTCGCTTCATGTCAGCGAGTTTTAACGTGGTTCTTCGCTGATGTGCTGTATATGA'\n",
    "genes = find_genes(seq)\n",
    "assert len(genes) == 3, \"Found %d genes, expected 3\" % len(genes)\n",
    "print(\"Success\")"
   ]
  },
  {
   "cell_type": "markdown",
   "metadata": {},
   "source": [
    "### Let's debug!\n",
    "\n",
    "We will use several strategies:\n",
    "\n",
    "- adding diagnostic `print` statements to see variable values\n",
    "- narrowing down problems by reducing and fixing variable values\n",
    "- tests using assertions\n",
    "- comment out code"
   ]
  },
  {
   "cell_type": "code",
   "execution_count": null,
   "metadata": {
    "collapsed": true
   },
   "outputs": [],
   "source": []
  },
  {
   "cell_type": "code",
   "execution_count": null,
   "metadata": {
    "collapsed": true
   },
   "outputs": [],
   "source": []
  },
  {
   "cell_type": "code",
   "execution_count": null,
   "metadata": {
    "collapsed": true
   },
   "outputs": [],
   "source": []
  },
  {
   "cell_type": "code",
   "execution_count": null,
   "metadata": {
    "collapsed": true
   },
   "outputs": [],
   "source": []
  },
  {
   "cell_type": "code",
   "execution_count": null,
   "metadata": {
    "collapsed": true
   },
   "outputs": [],
   "source": []
  },
  {
   "cell_type": "code",
   "execution_count": null,
   "metadata": {
    "collapsed": true
   },
   "outputs": [],
   "source": []
  },
  {
   "cell_type": "code",
   "execution_count": null,
   "metadata": {
    "collapsed": true
   },
   "outputs": [],
   "source": []
  },
  {
   "cell_type": "code",
   "execution_count": null,
   "metadata": {
    "collapsed": true
   },
   "outputs": [],
   "source": []
  },
  {
   "cell_type": "code",
   "execution_count": null,
   "metadata": {
    "collapsed": true
   },
   "outputs": [],
   "source": []
  },
  {
   "cell_type": "code",
   "execution_count": null,
   "metadata": {
    "collapsed": true
   },
   "outputs": [],
   "source": []
  },
  {
   "cell_type": "code",
   "execution_count": null,
   "metadata": {
    "collapsed": true
   },
   "outputs": [],
   "source": []
  },
  {
   "cell_type": "markdown",
   "metadata": {
    "collapsed": true
   },
   "source": [
    "Here is a working version of the code.\n",
    "How do we know it's _working_? Because **the assertion succeeds**."
   ]
  },
  {
   "cell_type": "code",
   "execution_count": null,
   "metadata": {
    "collapsed": false
   },
   "outputs": [],
   "source": [
    "bases = \"ACGT\"\n",
    "start = \"ATG\"\n",
    "stops = [\"TAG\",\"TGA\",\"TAA\"]\n",
    "\n",
    "def is_gene(sequence):\n",
    "    if len(sequence) < 6: # check minimum length \n",
    "        return False\n",
    "    if len(sequence) % 3 != 0: # check length divides by 3\n",
    "        return False\n",
    "    if sequence[:3] != start: # check start codon\n",
    "        return False\n",
    "    # check stop codon\n",
    "    if sequence[-3:] not in stops: \n",
    "        return False\n",
    "    # check only legal characters\n",
    "    for c in sequence: \n",
    "        if c not in bases:\n",
    "            return False\n",
    "    # check no stop codons in the middle \n",
    "    for i in range(0, len(sequence) - 6, 3): \n",
    "        if sequence[i:i+3] in stops:\n",
    "            return False\n",
    "    return True\n",
    "\n",
    "def find_genes(sequence):\n",
    "    start = \"ATG\"\n",
    "    stops = [\"TAG\",\"TGA\",\"TAA\"]\n",
    "    start_idx = []\n",
    "    for i in range(len(sequence) - 2):\n",
    "        if sequence[i:i+3] == start:\n",
    "            start_idx.append(i)\n",
    "    stop_idx = []\n",
    "    for i in range(len(sequence) - 2):\n",
    "        if sequence[i:i+3] in stops:\n",
    "            stop_idx.append(i)\n",
    "    genes = []\n",
    "    for i in start_idx:\n",
    "        for j in stop_idx:\n",
    "            if j > i and (j-i)%3==0:\n",
    "                gene = sequence[i:j+3]\n",
    "                if is_gene(gene):\n",
    "                    genes.append(gene)\n",
    "    return genes\n",
    "\n",
    "seq = 'GCCGTTTGTACTCCATTCCAATGAGGTCGCTTCATGTCAGCGAGTTTTAACGTGGTTCTTCGCTGATGTGCTGTATATGA'\n",
    "genes = find_genes(seq)\n",
    "assert len(genes) == 3, \"Found %d genes, expected 3\" % len(genes)\n",
    "print(\"Success\")"
   ]
  },
  {
   "cell_type": "markdown",
   "metadata": {
    "collapsed": true
   },
   "source": [
    "### Summary\n",
    "\n",
    "This plan outline can be changed according to the problem but the basic idea is: \n",
    "\n",
    "- understand the problem\n",
    "- find examples to use as tests\n",
    "- write the test\n",
    "- design an algorithm\n",
    "- implement the algorithm\n",
    "- test and debug until test succeeds\n",
    "\n",
    "This example follows the outline of an [example](http://hplgit.github.io/teamods/debugging/._debug004.html) by Hans Petter Langtangen. \n",
    "The problem is burrowed from a [Python for engineers exam](http://www.cs.tau.ac.il/courses/pyProg/1415a/exams/PyProg1415a_moedA_solution.pdf)."
   ]
  },
  {
   "cell_type": "markdown",
   "metadata": {},
   "source": [
    "## Try and except\n",
    "\n",
    "Errors (also called _exceptions_) can be caught and handled, if you know how to handle them.\n",
    "\n",
    "For example, trying to open a file that does not exist gives a `FileNotFoundError`:"
   ]
  },
  {
   "cell_type": "code",
   "execution_count": null,
   "metadata": {
    "collapsed": false
   },
   "outputs": [],
   "source": [
    "filename = \"myfile.txt\"\n",
    "with open(filename) as f:\n",
    "    print(f.read())"
   ]
  },
  {
   "cell_type": "markdown",
   "metadata": {},
   "source": [
    "You can catch the error using a `try-except` and either recover from the error (if you can) or handle it differently. For example, we can alert the user on the problem without the \"ugly\" error:"
   ]
  },
  {
   "cell_type": "markdown",
   "metadata": {},
   "source": [
    "#### Exception: `FileNotFoundError` trying to open non-existing file"
   ]
  },
  {
   "cell_type": "code",
   "execution_count": null,
   "metadata": {
    "collapsed": false
   },
   "outputs": [],
   "source": [
    "filename = \"myfile.txt\"\n",
    "with open(filename) as f:\n",
    "    print(f.read())"
   ]
  },
  {
   "cell_type": "markdown",
   "metadata": {},
   "source": [
    "#### Catch with `try`-`except`"
   ]
  },
  {
   "cell_type": "code",
   "execution_count": null,
   "metadata": {
    "collapsed": false
   },
   "outputs": [],
   "source": [
    "filename = \"myfile.txt\"\n",
    "try:\n",
    "    with open(filename) as f:\n",
    "        print(f.read())\n",
    "except FileNotFoundError:\n",
    "    print(\"File\",filename,\"not found, please try a different filename\")"
   ]
  },
  {
   "cell_type": "markdown",
   "metadata": {},
   "source": [
    "#### Exception: `ValueError` on parsing a number"
   ]
  },
  {
   "cell_type": "code",
   "execution_count": null,
   "metadata": {
    "collapsed": false
   },
   "outputs": [],
   "source": [
    "number = input(\"Give me a number please: \")\n",
    "number = int(number)"
   ]
  },
  {
   "cell_type": "markdown",
   "metadata": {},
   "source": [
    "#### Catch with `try`-`except`"
   ]
  },
  {
   "cell_type": "code",
   "execution_count": null,
   "metadata": {
    "collapsed": false
   },
   "outputs": [],
   "source": [
    "number = input(\"Give me a number please: \")\n",
    "try:\n",
    "    number = int(number)\n",
    "except ValueError:\n",
    "    print(\"I asked for a number and you gave me:\", number)"
   ]
  },
  {
   "cell_type": "markdown",
   "metadata": {},
   "source": [
    "## Exercise - *Sabotage* and protein mass\n",
    "\n",
    "Here's a nice little program that calculates the mass of a protein given the amino acid sequence of the protein."
   ]
  },
  {
   "cell_type": "code",
   "execution_count": null,
   "metadata": {
    "collapsed": false
   },
   "outputs": [],
   "source": [
    "from urllib import request\n",
    "request.urlretrieve(\"https://raw.githubusercontent.com/Py4Life/TAU2015/master/aa_weights.txt\", \"aa_weights.txt\")"
   ]
  },
  {
   "cell_type": "code",
   "execution_count": null,
   "metadata": {
    "collapsed": false
   },
   "outputs": [],
   "source": [
    "with open(\"aa_weights.txt\") as f:\n",
    "    weights = {}\n",
    "    for line in f:\n",
    "        aa,w = line.strip().split()\n",
    "        w = float(w)\n",
    "        weights[aa] = w\n",
    "print(weights)"
   ]
  },
  {
   "cell_type": "code",
   "execution_count": null,
   "metadata": {
    "collapsed": true
   },
   "outputs": [],
   "source": [
    "def protein_mass(sequence):\n",
    "    mass = 0\n",
    "    for aa in sequence:\n",
    "        if aa not in weights:\n",
    "            raise ValueError(\"Input sequence contains an illegal aa: %s\" % aa)\n",
    "        mass += weights[aa]\n",
    "    return mass"
   ]
  },
  {
   "cell_type": "code",
   "execution_count": null,
   "metadata": {
    "collapsed": false
   },
   "outputs": [],
   "source": [
    "seq = 'SKADYEK'\n",
    "assert round(protein_mass(seq), 3) == 821.392\n",
    "print(\"Success\")"
   ]
  },
  {
   "cell_type": "markdown",
   "metadata": {},
   "source": [
    "Open the notebook on your computer and sabotage the program by hiding exactly 5 bugs in the code.\n",
    "\n",
    "Now, change seats with a partner and find the bugs that your partner hid in the code.\n",
    "\n",
    "The problem protein mass problem appears in [Rosalind](http://rosalind.info/problems/prtm/). \n",
    "The *Sabotage* exercise is burrowed from a post in the [Teach Computing](https://teachcomputing.wordpress.com/2013/11/23/sabotage-teach-debugging-by-stealth/) blog by [Alan O'Donohoe](https://twitter.com/teknoteacher)."
   ]
  },
  {
   "cell_type": "markdown",
   "metadata": {},
   "source": [
    "# References\n",
    "\n",
    "- [Debugging in Python](http://hplgit.github.io/teamods/debugging/debug.html) by Hans Petter Langtangen. Some of the material here is borrowed or influenced from this wonderful resource. Check it out for more debugging tips, examples and methods.\n",
    "\n",
    "- [Sabotage: Teach Debugging By Stealth](https://teachcomputing.wordpress.com/2013/11/23/sabotage-teach-debugging-by-stealth/) by Alan O'Donohoe"
   ]
  },
  {
   "cell_type": "markdown",
   "metadata": {},
   "source": [
    "## Fin\n",
    "This notebook is part of the _Python Programming for Life Sciences Graduate Students_ course given in Tel-Aviv University, Spring 2015.\n",
    "\n",
    "The notebook was written using [Python](http://pytho.org/) 3.4.1 and [IPython](http://ipython.org/) 3.1 (download from [PyZo](http://www.pyzo.org/downloads.html), update with `conda update ipython ipython-notebook`).\n",
    "\n",
    "The code is available at https://github.com/Py4Life/TAU2015/blob/master/lecture5.ipynb.\n",
    "\n",
    "The notebook can be viewed online at http://nbviewer.ipython.org/github/Py4Life/TAU2015/blob/master/lecture5.ipynb.\n",
    "\n",
    "This work is licensed under a Creative Commons Attribution-ShareAlike 3.0 Unported License.\n",
    "\n",
    "![Python logo](https://www.python.org/static/community_logos/python-logo.png)"
   ]
  }
 ],
 "metadata": {
  "kernelspec": {
   "display_name": "Python 3",
   "language": "python",
   "name": "python3"
  },
  "language_info": {
   "codemirror_mode": {
    "name": "ipython",
    "version": 3
   },
   "file_extension": ".py",
   "mimetype": "text/x-python",
   "name": "python",
   "nbconvert_exporter": "python",
   "pygments_lexer": "ipython3",
   "version": "3.5.1"
  }
 },
 "nbformat": 4,
 "nbformat_minor": 0
}
