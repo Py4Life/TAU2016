{
 "cells": [
  {
   "cell_type": "markdown",
   "metadata": {},
   "source": [
    "## [Python Programming for Biologists, Tel-Aviv University / 0411-3122 / Spring 2016](http://py4life.github.io/TAU2016/)\n",
    "# Homework 5\n",
    "### General instructions\n",
    "- In this excercise, you will have to read and parse files. Download them [here](https://github.com/Py4Life/TAU2016/raw/master/files_for_hw5/files_for_hw5.rar), extract the rar file and then save the directory to your course directory (or wherever you access the notebooks from).\n",
    "- You will have to use the _Comma Separated Values_ (CSV) format, and the python csv module. To learn how to use it, go over the appropriate section in lecture 4. You can also learn more [here](https://docs.python.org/3/library/csv.html)."
   ]
  },
  {
   "cell_type": "markdown",
   "metadata": {},
   "source": [
    "## 1) GATA4 promoters\n",
    "In class, we dealt with the binding site of GATA4 TF.\n",
    "Now, let's extract some statistics from the promoters of GATA4.\n",
    "\n",
    "We'll use the check_for_GATA4() function from class, denoted below (run it to compile it)."
   ]
  },
  {
   "cell_type": "code",
   "execution_count": null,
   "metadata": {
    "collapsed": true
   },
   "outputs": [],
   "source": [
    "import re\n",
    "def check_for_GATA4(sequence):\n",
    "    motif_regex = re.compile(r'AGATA[AG][AC]AG[AG][CG]A')\n",
    "    if re.search(motif_regex,sequence):\n",
    "        return True\n",
    "    else:\n",
    "        return False\n"
   ]
  },
  {
   "cell_type": "markdown",
   "metadata": {},
   "source": [
    "The 'GATA4_promoters.fasta' file in the attached rar archive includes (made-up) promoter sequences for genes suspected to be regulated by GATA-4. (Open it with notepad to see the format!). \n",
    "We'll use everything we've learned so far to write a program that summarizes some interesting statistics regarding the GATA-4 motifs in these promoters.  \n",
    "First, let's adjust the parse\\_fasta() function we created in class for the specific format of the promoters file:"
   ]
  },
  {
   "cell_type": "code",
   "execution_count": null,
   "metadata": {
    "collapsed": true
   },
   "outputs": [],
   "source": [
    "def parse_promoters_fasta(file_name):\n",
    "    \"\"\"\n",
    "    Receives a path to a fasta file, and returns a dictionary where the keys\n",
    "    are the sequences names and the values are the sequences.\n",
    "    \"\"\"\n",
    "    # create an empty dictionary to store the sequences\n",
    "    sequences = {}\n",
    "    # open fasta file for reading\n",
    "    with open(file_name,'r') as f:\n",
    "        # Loop over file lines\n",
    "        for line in f:\n",
    "            # if header line\n",
    "            if line.startswith('>'):\n",
    "                seq_id = line[1:-1]   # take the whole line, except the '>' in the beginning and '\\n' at the end\n",
    "            # if sequence line\n",
    "            else:\n",
    "                seq = line.strip()\n",
    "                sequences[seq_id] = seq\n",
    "    return sequences"
   ]
  },
  {
   "cell_type": "markdown",
   "metadata": {},
   "source": [
    "1)\n",
    "Write a function that receives a promoters fasta dictionary, and counts how many of the promoters have the GATA-4 motif. Use any of the functions defined above and complete the code:"
   ]
  },
  {
   "cell_type": "code",
   "execution_count": null,
   "metadata": {
    "collapsed": false
   },
   "outputs": [],
   "source": [
    "def count_promoters_with_motif(promoters_dictionary):\n",
    "    \"\"\"\n",
    "    Receives a dictionary representing a promoters fasta file,\n",
    "    and counts how many of the promoters include a GATA-4 motif.\n",
    "    \"\"\"\n",
    "    promoters_count = 0   # store the number of promoters with GATA-4 motif\n",
    "    # write your code here\n",
    "    \n",
    "    \n",
    "\n",
    "#Test your code:\n",
    "promoters_dict = {\"prom1\": \"CCGGGAAAAGGGTCCCACCTGACGGGAAATTGGAGTGGAGGGCGACAAATCATCTAGTTTAAGTTCGGCCTGTCACACATTGTACATGAGATAAAAGGCA\",\n",
    "                 \"prom2\": \"ACCCTGGTCTGAACTAGTGAATTTCCTTCTACGTACAGAGTCGACAACGAGCCCGTAGGGCTTGTCATCTCAAGATAGCAGAGAAGCGTGAACCGCTTCG\",\n",
    "                 \"prom3\": \"TGCGGGACATGTCACAGATAACAGAGATCGAAGCTGCATCCGTATGTTCGTTCGGGCACATTGTGAAAGACATCAACGTACTTCGCCCTTTGGCAGGCGA\"}\n",
    "gata4_cnt = count_promoters_with_motif(promoters_dict)\n",
    "print(gata4_cnt, \"of the promoters in promoter_dict have GATA-4 motif!\")"
   ]
  },
  {
   "cell_type": "markdown",
   "metadata": {},
   "source": [
    "2) For promoters that do include the GATA-4 motif, we would like to know the frequencies of the different nucleotides for each of the four variable positions in the motif. Complete the code:"
   ]
  },
  {
   "cell_type": "code",
   "execution_count": null,
   "metadata": {
    "collapsed": true
   },
   "outputs": [],
   "source": [
    "def get_positions_statistics(promoters_dictionary):\n",
    "    \"\"\"\n",
    "    Receives a dictionary representing a promoters fasta file,\n",
    "    and returns the frequencies of possible nucleotides in \n",
    "    each variable position.\n",
    "    \"\"\"\n",
    "    # define a  dictionary for each position, to store the nucleotide frequencies\n",
    "    # D position\n",
    "    D_dict = {'A':0, 'G':0, 'T':0}\n",
    "    # M position\n",
    "    M_dict = {'A':0, 'C':0}\n",
    "    # R position\n",
    "    R_dict = {'A':0, 'G':0}\n",
    "    # S position\n",
    "    S_dict = {'C':0, 'G':0}\n",
    "    \n",
    "    # iterate over promoters\n",
    "    for p in promoters_dictionary: #iterates over the keys ==> p is a different key in every iteration!\n",
    "        # if promoter includes the GATA-4 motif\n",
    "        if check_for_GATA4(promoters_dictionary[p]):\n",
    "            # get variable nucleotides in promoter\n",
    "            \n",
    "            # insert to dictionaries\n",
    "\n",
    "            \n",
    "    return D_dict, M_dict, R_dict, S_dict"
   ]
  },
  {
   "cell_type": "markdown",
   "metadata": {},
   "source": [
    "3) Now, we just have to write a function that will summarize the results in a CSV file. It should receive the frequencies dictionaries and write statistics to an output file. Complete the code:"
   ]
  },
  {
   "cell_type": "code",
   "execution_count": null,
   "metadata": {
    "collapsed": true
   },
   "outputs": [],
   "source": [
    "def summarize_results(D_dict, M_dict, R_dict, S_dict, output_file):\n",
    "    with open(output_file, 'w') as fo: #first, we open a file writer with open()\n",
    "        csv_writer = csv.writer(fo) #Now, wrap it with csv writer\n",
    "        # write headers line\n",
    "        csv_writer.writerow(['Position','A','G','C','T'])\n",
    "        # summarize D position\n",
    "        csv_writer.writerow(['D',D_dict['A'],D_dict['G'],0,D_dict['T']])\n",
    "        # summarize M position - complete it\n",
    "        \n",
    "        # summarize R position - complete it\n",
    "        \n",
    "        # summarize S position - complete it\n",
    "        "
   ]
  },
  {
   "cell_type": "markdown",
   "metadata": {},
   "source": [
    "4) Now that we have all the functions ready, we can write the main program. Check your output!\n",
    "__Make sure that the files are in the directory files_for_hw5 from where you run this notebook!__"
   ]
  },
  {
   "cell_type": "code",
   "execution_count": null,
   "metadata": {
    "collapsed": false
   },
   "outputs": [],
   "source": [
    "import csv\n",
    "promoters_file = \"files_for_hw5/GATA4_promoters.fasta\"\n",
    "output_file = \"files_for_hw5/promoters_stats.csv\"\n",
    "\n",
    "# parse fasta file\n",
    "promoters_dict = parse_promoters_fasta(promoters_file)\n",
    "\n",
    "# Count promoters with/without GATA-4 motif\n",
    "promoters_with_motif = count_promoters_with_motif(promoters_dict)\n",
    "promoters_without_motif = len(promoters_dict) - promoters_with_motif\n",
    "print('Total promoters:',promoters_with_motif + promoters_without_motif)\n",
    "print('Promoters with GATA-4 motif:',promoters_with_motif)\n",
    "print('Promoters without GATA-4 motif:',promoters_without_motif)\n",
    "\n",
    "# Get statistics\n",
    "D_dict, M_dict, R_dict, S_dict = get_positions_statistics(promoters_dict)\n",
    "# write to CSV\n",
    "summarize_results(D_dict, M_dict, R_dict, S_dict,output_file)"
   ]
  },
  {
   "cell_type": "markdown",
   "metadata": {},
   "source": [
    "## 2) Plant names\n",
    "A full scientific name of a plant species consists of a genus name, a species name and an authority (usually a short for the name of the person to first describe the species). For example, in _Arabidopsis thaliana (L.) Heynh._, _Arabidopsis_ is the genus, _thaliana)_ is the species and _(L.) Heynh._ is the authority. \n",
    "\n",
    "- The genus always begins with a capital letter, followed by one or more lower case letters. This can be found with a regex '[A-Z][a-z]+'.\n",
    "- After the genus there's a space and then the species name. A space can be simply represented by a space ' ' or with '\\s'.\n",
    "- The species is all lowercase. \n",
    "- After the species name there's a space and then the authority.\n",
    "- The authority can include any character. \n",
    "\n",
    "In addition, a name may (or may not) include an infraspecific rank. This is added after the species name, and consists of an _epithet_ which is either _subsp._ (for subspecies) or _var._ (for variety). The epithet is followed by the name of the infraspecific rank. \n",
    "\n",
    "For example, in _Fraxinus americana var. acuminata (Lam.) K.Koch_, the genus is _Fraxinus_, the species is _americana_, the infraspecies is _var. acuminata_ and the authority is _(Lam.) K.Koch_.  \n",
    "\n",
    "The file `files_for_hw5/plant_names.txt` contains a list of plant names. The goal is to break these names into their components. \n",
    "\n",
    "Write a program that reads the names from the file and writes a new CSV file with the following column names: _Genus_, _Species_, _Infraspecific_ and _Authority_. \n",
    "Each plant name in `plant_names.txt` should then be processed (use regular expressions) and its components inserted into the CSV file."
   ]
  },
  {
   "cell_type": "code",
   "execution_count": null,
   "metadata": {
    "collapsed": false
   },
   "outputs": [],
   "source": [
    "### your code here\n",
    "\n",
    "\n",
    "\n",
    "\n",
    "\n",
    "\n",
    "\n",
    "\n",
    "\n",
    "\n",
    "\n",
    "\n",
    "\n",
    "\n",
    "\n"
   ]
  },
  {
   "cell_type": "markdown",
   "metadata": {},
   "source": [
    "## 3) Live debugging - find genes in a sequence\n",
    "\n",
    "We will write a program that looks for genes (or open reading frames) in a DNA sequence.\n",
    "\n",
    "How do we go about it? Let's make a plan.\n",
    "\n",
    "### The plan\n",
    "\n",
    "1. What _exactly_ do we want?\n",
    "\n",
    "2. What is the input and output?\n",
    "\n",
    "3. Example\n",
    "\n",
    "4. Algorithm - one function to check if a sequence is a gene; one function to look for gene candidates in a sequence\n",
    "\n",
    "5. Implementation"
   ]
  },
  {
   "cell_type": "markdown",
   "metadata": {},
   "source": [
    "#### 1. What _exactly_ do we want?\n",
    "\n",
    "We want to find all genes in a DNA sequence, including overlapping genes, but only on the sequence, not on its complement.\n",
    "\n",
    "A valid gene: (i) contains only the bases AGCT, (ii) starts with a start codon (ATG), (iii) ends with a stop codon (TAG, TGA, TAA), (iv) its length is a multiple of three, (v) and doesn't contain a stop codon in a position that is a multiple of three.\n",
    "\n",
    "#### 2. What is the input and output?\n",
    "\n",
    "Input: string.\n",
    "\n",
    "Output: list of strings.\n",
    "\n",
    "#### 3. Example\n",
    "\n",
    "Our example is GCCGTTTGTACTCCATTCCA**ATGAGGTCGCTTC|ATGTCAGCGAGTTTTAA**CGTGGTTCTTCGCTG**A|TGTGCTGTATATGA**.\n",
    "\n",
    "This is a good example because it is (i) not too short to be trivial, (ii) not too long to be unreadable, (iii) contains genes in at least two different open reading frames and (iv) overlapping genes.\n",
    "\n",
    "- Input: `GCCGTTTGTACTCCATTCCAATGAGGTCGCTTCATGTCAGCGAGTTTTAACGTGGTTCTTCGCTGATGTGCTGTATATGA`\n",
    "- Output: `['ATGAGGTCGCTTCATGTCAGCGAGTTTTAA', 'ATGTCAGCGAGTTTTAACGTGGTTCTTCGCTGA', 'ATGTGCTGTATATGA']`\n",
    "\n",
    "#### 4. Algorithm\n",
    "\n",
    "Here is a skeleton of our program with a **test case** (_i.e._ assertion), which, of course, fails for now. \n",
    "This is called [_test driven development_](http://en.wikipedia.org/wiki/Test-driven_development) (it may sound like this is only for \"serious\" programmers. The contrary is true - it's very beneficial for less expirienced programmers)."
   ]
  },
  {
   "cell_type": "code",
   "execution_count": null,
   "metadata": {
    "collapsed": true
   },
   "outputs": [],
   "source": [
    "def is_gene(sequence):\n",
    "    # check if sequence is a gene\n",
    "    return False\n",
    "\n",
    "def find_genes(sequence):\n",
    "    # find all genes in sequence\n",
    "    return []\n",
    "\n",
    "seq = 'GCCGTTTGTACTCCATTCCAATGAGGTCGCTTCATGTCAGCGAGTTTTAACGTGGTTCTTCGCTGATGTGCTGTATATGA'\n",
    "genes = find_genes(seq)\n",
    "assert len(genes) == 3, \"Found %d genes, expected 3\" % len(genes)\n",
    "print(\"Success\")"
   ]
  },
  {
   "cell_type": "markdown",
   "metadata": {},
   "source": [
    "#### 5. Implementation\n",
    "\n",
    "Here is the code that implements the program.\n",
    "\n",
    "Now we must test and debug!"
   ]
  },
  {
   "cell_type": "code",
   "execution_count": null,
   "metadata": {
    "collapsed": true
   },
   "outputs": [],
   "source": [
    "bases = \"ACGT\"\n",
    "start = \"ATG\"\n",
    "stops = [\"TAg\",\"TGG\",\"TAA\"]\n",
    "\n",
    "def is_gene(sequence):\n",
    "    if len(seqeunce) < 5: # check minimum length \n",
    "    return False\n",
    "    if len(sequence) % 3 ! 0: # check length divides by 3\n",
    "    return False\n",
    "    if sequence[1:3] != start: # check start codon\n",
    "    return False\n",
    "    # check stop codon\n",
    "    if sequence[-3:] not in stops: \n",
    "    return False\n",
    "    # check only legal characters\n",
    "    for c in sequence: \n",
    "        if c not in bases:\n",
    "        return False\n",
    "    # check no stop codons in the middle \n",
    "    for i in range(0, len(sequence) - 3, 3): \n",
    "        if sequence[i:i+3] in stops:\n",
    "        return False\n",
    "    return \"True\"\n",
    "\n",
    "def find_genes(sequence):\n",
    "    start_idx = []\n",
    "    for i in range(len(sequence)):\n",
    "        if sequence[i,i+3] == start:\n",
    "          start_idx.append(i)    \n",
    "    stop_idx = []\n",
    "    for i in range(len(sequence)):\n",
    "        if sequence[i,i+3] == stops:\n",
    "          stop_idx.append(i)    \n",
    "    for i == start_idx:\n",
    "    for j == stop_idx:\n",
    "        if j <= i and j-i % 3 == 0:\n",
    "          gene = sequence[i,j+3]\n",
    "          if is_gene(genes):\n",
    "              genes.append(genes)\n",
    "    return gene\n",
    "\n",
    "seq = 'GCCGTTTGTACTCCATTCCAATGAGGTCGCTTCATGTCAGCGAGTTTTAACGTGGTTCTTCGCTGATGTGCTGTATATGA'\n",
    "genes = find_genes(seq)\n",
    "assert len(genes) == 3, \"Found %d genes, expected 3\" % len(genes)\n",
    "print(\"Success\")"
   ]
  },
  {
   "cell_type": "markdown",
   "metadata": {},
   "source": [
    "### Let's debug!\n",
    "\n",
    "We will use several strategies:\n",
    "\n",
    "- adding diagnostic `print` statements to see variable values\n",
    "- narrowing down problems by reducing and fixing variable values\n",
    "- tests using assertions\n",
    "- comment out code"
   ]
  },
  {
   "cell_type": "code",
   "execution_count": null,
   "metadata": {
    "collapsed": true
   },
   "outputs": [],
   "source": []
  },
  {
   "cell_type": "code",
   "execution_count": null,
   "metadata": {
    "collapsed": true
   },
   "outputs": [],
   "source": []
  },
  {
   "cell_type": "code",
   "execution_count": null,
   "metadata": {
    "collapsed": true
   },
   "outputs": [],
   "source": []
  },
  {
   "cell_type": "code",
   "execution_count": null,
   "metadata": {
    "collapsed": true
   },
   "outputs": [],
   "source": []
  },
  {
   "cell_type": "code",
   "execution_count": null,
   "metadata": {
    "collapsed": true
   },
   "outputs": [],
   "source": []
  },
  {
   "cell_type": "code",
   "execution_count": null,
   "metadata": {
    "collapsed": true
   },
   "outputs": [],
   "source": []
  },
  {
   "cell_type": "code",
   "execution_count": null,
   "metadata": {
    "collapsed": true
   },
   "outputs": [],
   "source": []
  },
  {
   "cell_type": "code",
   "execution_count": null,
   "metadata": {
    "collapsed": true
   },
   "outputs": [],
   "source": []
  },
  {
   "cell_type": "markdown",
   "metadata": {},
   "source": [
    "Fix the code above until it runs without errors and returns the requested output.\n",
    "\n",
    "### Summary\n",
    "\n",
    "This plan outline can be changed according to the problem but the basic idea is: \n",
    "\n",
    "- understand the problem\n",
    "- find examples to use as tests\n",
    "- write the test\n",
    "- design an algorithm\n",
    "- implement the algorithm\n",
    "- test and debug until test succeeds\n",
    "\n",
    "This example follows the outline of an [example](http://hplgit.github.io/teamods/debugging/._debug004.html) by Hans Petter Langtangen. \n",
    "The problem is borrowed from a [Python for engineers exam](http://www.cs.tau.ac.il/courses/pyProg/1415a/exams/PyProg1415a_moedA_solution.pdf)."
   ]
  }
 ],
 "metadata": {
  "celltoolbar": "Raw Cell Format",
  "kernelspec": {
   "display_name": "Python 3",
   "language": "python",
   "name": "python3"
  },
  "language_info": {
   "codemirror_mode": {
    "name": "ipython",
    "version": 3
   },
   "file_extension": ".py",
   "mimetype": "text/x-python",
   "name": "python",
   "nbconvert_exporter": "python",
   "pygments_lexer": "ipython3",
   "version": "3.5.1"
  }
 },
 "nbformat": 4,
 "nbformat_minor": 0
}
