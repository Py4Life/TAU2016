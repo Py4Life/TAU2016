{
 "cells": [
  {
   "cell_type": "markdown",
   "metadata": {},
   "source": [
    "## [Python Programming for Biologists, Tel-Aviv University / 0411-3122 / Spring 2016](http://py4life.github.io/TAU2016/)\n",
    "# Homework 3\n",
    "\n",
    "## 1) Translating DNA\n",
    "In the code below there is a dictionary (named `codon_table`) in which keys represent codons and values represent corresponding amino acids. \n",
    "\n",
    "Write a program that will translate a DNA sequence into an amino acid sequence using the codons disctionary. Print out the result. Note that `*` are stop codons.  \n",
    "\n",
    "If you want to know more about how the codons dictionary was created, read the documentation for [list comprehension](https://docs.python.org/3.4/tutorial/datastructures.html#list-comprehensions) and the built-in [zip-function](https://docs.python.org/3.4/library/functions.html#zip)."
   ]
  },
  {
   "cell_type": "code",
   "execution_count": null,
   "metadata": {
    "collapsed": false
   },
   "outputs": [],
   "source": [
    "# Create codons dictionary\n",
    "bases = ['t', 'c', 'a', 'g']\n",
    "codons = [a+b+c for a in bases for b in bases for c in bases]\n",
    "amino_acids = 'FFLLSSSSYY**CC*WLLLLPPPPHHQQRRRRIIIMTTTTNNKKSSRRVVVVAAAADDEEGGGG'\n",
    "codon_table = dict(zip(codons, amino_acids))\n",
    "\n",
    "# codon table is a dictionary in this format: {'ttt':'F', 'ttc':'F', 'tta':'L', ....}\n",
    "\n",
    "print(codon_table)\n",
    "\n",
    "DNA = 'atgattccaacgcgaaggtcaagtacgtacagctctcagtgtgtgctactcaccgactccgtcatagcaaccggcgtcgtggtcgttaccattgcataa'\n",
    "\n",
    "# translate the sequence\n",
    "\n",
    "n = len(DNA)\n",
    "translation = ''\n",
    "for i in range(0,n-2,3):\n",
    "    aa = codon_table[DNA[i:i+3]]\n",
    "    translation = translation + aa\n",
    "\n",
    "print(translation)"
   ]
  },
  {
   "cell_type": "markdown",
   "metadata": {},
   "source": [
    "## 2) Protein contents\n",
    "\n",
    "**a)** Write a function that __receives__ an amino acid sequence as string and __returns__ a dictionary where the keys are the amino acid residues and the values are the number of times each residue appeared in the protein. For example, the expected result for the peptide `LLTDSGT` is: `{'L': 2, 'T': 2, 'D': 1, 'S': 1, 'G': 1}`.  \n",
    "Test your function on the provided sequences, and print the results in the following format:  \n",
    "L - 2  \n",
    "T - 2  \n",
    "D - 1  \n",
    "S - 1  \n",
    "G - 1\n",
    "\n",
    "Remember: `dict` is unordered.\n",
    "\n",
    "Hint: pay attention to the difference between encountering a peptide for the first time (where you need to insert it to the dictionary) and encountering a peptide for the second/third... time (where you need to update the dictionary)."
   ]
  },
  {
   "cell_type": "code",
   "execution_count": null,
   "metadata": {
    "collapsed": false
   },
   "outputs": [],
   "source": [
    "def count_residues(protein_seq):\n",
    "    counts_dict = {}   # create an empty dictionary to store results\n",
    "    \n",
    "    # your code goes here. \n",
    "    for aa in protein_seq:\n",
    "        if aa not in counts_dict:\n",
    "            counts_dict[aa] = 1\n",
    "        else:\n",
    "            counts_dict[aa] = counts_dict[aa] + 1\n",
    "    \n",
    "    return counts_dict\n",
    "    \n",
    "    \n",
    "protein_sequence = 'DQHTWMYAEGYLNHVYRCDKQRAEDKECNGLYAWALALESHGKGSYYCQGFKTFPNPWPMHMMTFVMADLYQYMEI'\n",
    "aa_counts_dict = count_residues(protein_sequence)\n",
    "# print results\n",
    "for key in aa_counts_dict:\n",
    "    print(key + ' -', aa_counts_dict[key])\n"
   ]
  },
  {
   "cell_type": "markdown",
   "metadata": {},
   "source": [
    "**b)** Write a function that receives an amino acid sequence as a string and returns a dictionary with the _frequencies_ of hydrophobic, posituvely-charged, negatively-charged, polar and other amino acids. Use the strings provided in the function below. \n",
    "\n",
    "For example,\n",
    "```\n",
    "residues_type_frequencies('LLTDSGT')\n",
    "{'hydrophobic': 0.286, 'positive': 0, 'negative': 0.143, 'polar': 0.428, 'other': 0.143}\n",
    "```\n",
    "\n",
    "Test your function on the provided amino acid sequence, and print the results in the following format:\n",
    "```\n",
    "hydrophobic - 0.286  \n",
    "positive - 0  \n",
    "negative - 0.143  \n",
    "polar - 0.428  \n",
    "other - 0.143\n",
    "```\n",
    "\n",
    "Hint: remember how we can easily check if some character present in a string."
   ]
  },
  {
   "cell_type": "code",
   "execution_count": null,
   "metadata": {
    "collapsed": false
   },
   "outputs": [],
   "source": [
    "def residues_type_frequencies(protein_seq):\n",
    "    hydrophobic = 'AVILMFYW'\n",
    "    pos_charged = 'RHK'\n",
    "    neg_charged = 'DE'\n",
    "    polar = 'STNQ'\n",
    "    other = 'CUGP'\n",
    "    \n",
    "    # your code goes here.\n",
    "    type_dict = {'hydrophobic':0,'positive':0,'negative':0,'polar':0,'other':0}\n",
    "    for aa in protein_seq:\n",
    "        if aa in hydrophobic:\n",
    "            type_dict['hydrophobic'] += 1\n",
    "        elif aa in pos_charged:\n",
    "            type_dict['positive'] += 1\n",
    "        elif aa in neg_charged:\n",
    "            type_dict['negative'] += 1\n",
    "        elif aa in polar:\n",
    "            type_dict['polar'] += 1\n",
    "        else:\n",
    "            type_dict['other'] += 1\n",
    "    \n",
    "    n = len(protein_seq)\n",
    "    for key in type_dict:\n",
    "        type_dict[key] /= n\n",
    "    return type_dict\n",
    "    \n",
    "\n",
    "aa_sequence = 'DQHTWMYAEGYLNHVYRCDKQRAEDKECNGLYAWALALESHGKGSYYCQGFKTFPNPWPMHMMTFVMADLYQYMEI'\n",
    "aa_types_freq_dict = residues_type_frequencies(aa_sequence)\n",
    "# print results\n",
    "for key in aa_types_freq_dict:\n",
    "    print(key + ' -', aa_types_freq_dict[key])\n"
   ]
  },
  {
   "cell_type": "markdown",
   "metadata": {},
   "source": [
    "## 3) Palindromic sequences\n",
    "A palindromic sequence is a DNA sequence that is the same whether read 5' to 3' on one strand or 5' to 3' on the complementary strand. For example, the sequence 5' GAATTC 3' is palindromic, since the complement strand is 3' CTTAAG 5', or 5' GAATTC 3'.   \n",
    "Palindromic sequences are biologically interesting because they can form special structural motifs, such as hairpins, and often are cutting sites for restriction enzymes.  \n",
    "\n",
    "**a)** Write a function `is_palindrome` that receives a DNA sequence as a string and returns `True` (boolean) if it is palindromic and `False` (boolean) otherwise. You may use the function defined in the lecture to find the complement strand.  \n",
    "The assertions test your function on the provided sequences. If you don't get any error messages, that means your function works fine.\n",
    "\n",
    "You can assume the length of the sequence is even."
   ]
  },
  {
   "cell_type": "code",
   "execution_count": null,
   "metadata": {
    "collapsed": false
   },
   "outputs": [],
   "source": [
    "def is_palindrome(seq):\n",
    "    # your code goes here. remove the pass statement.\n",
    "    \n",
    "    # one option is to use the code from class: create reverse complement and compare the strings. \n",
    "    # here's a different approach\n",
    "    n = len(seq)\n",
    "    for i in range(n//2):\n",
    "        if seq[i] == 'A' and seq[-i-1] != 'T':\n",
    "            return False\n",
    "        if seq[i] == 'T' and seq[-i-1] != 'A':\n",
    "            return False\n",
    "        if seq[i] == 'G' and seq[-i-1] != 'C':\n",
    "            return False\n",
    "        if seq[i] == 'C' and seq[-i-1] != 'G':\n",
    "            return False\n",
    "    return True\n",
    "\n",
    "assert(is_palindrome('GAATTC'))\n",
    "assert(is_palindrome('GATATC'))\n",
    "assert(is_palindrome('AGCTTCTAGTCGACTAGAAGCT'))\n",
    "assert(not is_palindrome('GAACTC'))\n",
    "assert(not is_palindrome('GATATG'))"
   ]
  },
  {
   "cell_type": "markdown",
   "metadata": {},
   "source": [
    "**b)** Now use the function `is_palindrome` to look for palindromic subsequences within a given DNA sequence.  \n",
    "\n",
    "Write a function `find_palindromes` that receives two parameters: a sequence `seq` (string) and an integer `n`. The function searches `seq` for n bases long palindromic subsequences. It returns a list of all the palindromic subsequences found. If none were found, it returns an empty list. Implement the function using a __for__ loop."
   ]
  },
  {
   "cell_type": "code",
   "execution_count": null,
   "metadata": {
    "collapsed": false
   },
   "outputs": [],
   "source": [
    "def find_palindromes(seq, n):\n",
    "    palindromes = []\n",
    "    \n",
    "    for i in range(len(seq)-n+1):\n",
    "               \n",
    "        if is_palindrome(seq[i:i+n]): \n",
    "            palindromes.append(seq[i:i+n])\n",
    "            \n",
    "    return palindromes\n",
    "\n",
    "DNA_seq = 'GGAGCTCCCAAAGCCATCAATATTCATCAAAACGAATTCAACGGAGCTCGATATCGCATCGCAAAAGACACC'\n",
    "palindromic_sequences = find_palindromes(DNA_seq,6)\n",
    "assert palindromic_sequences == ['GAGCTC', 'AATATT', 'GAATTC', 'GAGCTC', 'GATATC']"
   ]
  },
  {
   "cell_type": "markdown",
   "metadata": {},
   "source": [
    "**c)** Implement the same function using a __while__ loop."
   ]
  },
  {
   "cell_type": "code",
   "execution_count": null,
   "metadata": {
    "collapsed": false
   },
   "outputs": [],
   "source": [
    "def find_palindromes(seq, n):\n",
    "    palindromes = []\n",
    "    i = 0\n",
    "    while i < len(seq)-n+1:\n",
    "        \n",
    "        if is_palindrome(seq[i:i+n]):\n",
    "            palindromes.append(seq[i:i+n])\n",
    "\n",
    "        i += 1\n",
    "    \n",
    "    return palindromes\n",
    "\n",
    "DNA_seq = 'GGAGCTCCCAAAGCCATCAATATTCATCAAAACGAATTCAACGGAGCTCGATATCGCATCGCAAAAGACACC'\n",
    "palindromic_sequences = find_palindromes(DNA_seq,6)\n",
    "assert palindromic_sequences == ['GAGCTC', 'AATATT', 'GAATTC', 'GAGCTC', 'GATATC']"
   ]
  },
  {
   "cell_type": "markdown",
   "metadata": {},
   "source": [
    "A major caveat of the functions created so far is that they will return all palindromic sequences, even if they are overlapping, which makes no biological sense. For example, if we search the sequence `GAATTCGAACAT` for 6-bases long palindromes, we will get both `GAATTC` and `TTCGAA`, although they are overlapping.  \n",
    "\n",
    "**d)** Choose one of the implementations from parts **b** and **c**, and change it so that no overlapping palindromes will be found. The function should return the upstream palindromes where there is an overlap."
   ]
  },
  {
   "cell_type": "code",
   "execution_count": null,
   "metadata": {
    "collapsed": false
   },
   "outputs": [],
   "source": [
    "def find_palindromes_no_overlap(S, n):\n",
    "    palindromes = []\n",
    "    # your code here\n",
    "    i = 0\n",
    "    while i < len(S)-n+1:\n",
    "        \n",
    "        if is_palindrome(S[i:i+n]):\n",
    "            palindromes.append(S[i:i+n])\n",
    "            i+=n\n",
    "        else:\n",
    "            i += 1\n",
    "    \n",
    "    return palindromes\n",
    "\n",
    "# test\n",
    "DNA_seq = 'GGAGCTCCCAAAGCCATCAATATTCATCAAAACGAATTCAACGGAGCTCGATATCGCATCGCAAAAGACACC'\n",
    "palindromic_sequences = find_palindromes_no_overlap(DNA_seq,6)\n",
    "assert palindromic_sequences == ['GAGCTC', 'AATATT', 'GAATTC', 'GAGCTC', 'GATATC']\n",
    "DNA_seq = 'GGAGCTCCCAAAGCCATCAGAATTCGAACATATCGCAAAAGACACC'\n",
    "palindromic_sequences = find_palindromes(DNA_seq,6)\n",
    "assert palindromic_sequences == ['GAGCTC', 'GAATTC', 'TTCGAA']\n",
    "DNA_seq = 'GGAGCTCCCAAAGCCATCAGAATTCGAACATATCGCAAAAGACACC'\n",
    "palindromic_sequences = find_palindromes_no_overlap(DNA_seq,6)\n",
    "assert palindromic_sequences == ['GAGCTC', 'GAATTC']"
   ]
  },
  {
   "cell_type": "code",
   "execution_count": null,
   "metadata": {
    "collapsed": true
   },
   "outputs": [],
   "source": []
  }
 ],
 "metadata": {
  "kernelspec": {
   "display_name": "Python 3",
   "language": "python",
   "name": "python3"
  },
  "language_info": {
   "codemirror_mode": {
    "name": "ipython",
    "version": 3
   },
   "file_extension": ".py",
   "mimetype": "text/x-python",
   "name": "python",
   "nbconvert_exporter": "python",
   "pygments_lexer": "ipython3",
   "version": "3.5.1"
  }
 },
 "nbformat": 4,
 "nbformat_minor": 0
}
