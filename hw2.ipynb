{
 "cells": [
  {
   "cell_type": "markdown",
   "metadata": {},
   "source": [
    "## [Python Programming for Biologists, Tel-Aviv University / 0411-3122 / Spring 2016](http://py4life.github.io/TAU2016/)\n",
    "# Homework 2\n",
    "## 1) Bacteria growth\n",
    "The bacteria _P. pythonicus_ replicates every one hour, in a 100 ml tube. Being a very unfriendly bacteria, they reach stationary phase when there are 1,000,000 or more bacteria in the tube.  \n",
    "  \n",
    "**a)** Write a program that will calculate the number of bacteria after one hour, two hours, etc, until stationarity is reached. The program will receive the starter size (number of bacteria to begin with), and start calculating from there. The program will print the amount of bacteria at every hour - the following message should be printed:  \n",
    "< time > hours: < no. of bacteria > bacteria  \n",
    "\n",
    "For example, if starter = 20000, the program would print:  \n",
    "  \n",
    "0 hours: 22000 bacteria  \n",
    "1 hours: 44000 bacteria  \n",
    "2 hours: 88000 bacteria  \n",
    "3 hours: 176000 bacteria  \n",
    "4 hours: 352000 bacteria  \n",
    "5 hours: 704000 bacteria  "
   ]
  },
  {
   "cell_type": "code",
   "execution_count": null,
   "metadata": {
    "collapsed": false
   },
   "outputs": [],
   "source": [
    "time = 0\n",
    "starter = 100 # Replace with a value of your choice.\n",
    "bacteria = starter\n",
    "\n",
    "while __________________:\n",
    "    # your code here. remove the pass statement\n",
    "    pass\n",
    "    \n",
    "    \n",
    "    "
   ]
  },
  {
   "cell_type": "markdown",
   "metadata": {},
   "source": [
    "**b)** It turns out that the growth rate of _P. pythonicus_ is affected by temperature. It's replication time _r_, is a function of the temperature T, so that:  \n",
    "$r = \\frac{19*T*(T - 70)}{2450} + 10$.  \n",
    "However, when the temperature is below 5, or over 50, the bacteria don't grow at all.  \n",
    "Write a program that will receive the starter size __and__ the growth temperature, and will calculate the time to reach stationarity, printing the number of bacteria at each time point (like in part a). If bacteria can't grow, print an appropriate message (and don't do any calculation).  \n",
    "  \n",
    "For example, if starter = 22000 and temp = 3 the output would be:\n",
    "  \n",
    "Bacteria can't grow in this temperature\n",
    "\n",
    "abd for starter = 22000 and temp = 23 the output would be:\n",
    "  \n",
    "0 hours: 22000 bacteria  \n",
    "1.6167346938775502 hours: 44000 bacteria  \n",
    "3.2334693877551004 hours: 88000 bacteria  \n",
    "4.850204081632651 hours: 176000 bacteria  \n",
    "6.466938775510201 hours: 352000 bacteria  \n",
    "8.083673469387751 hours: 704000 bacteria  \n"
   ]
  },
  {
   "cell_type": "code",
   "execution_count": null,
   "metadata": {
    "collapsed": false
   },
   "outputs": [],
   "source": [
    "starter = 100 # Replace with a value of your choice.\n",
    "temp = 30 # Replace with a value of your choice.\n",
    "\n",
    "# check temperature and calculate replication time\n",
    "\n",
    "\n",
    "\n",
    "# calculate and growth\n",
    "\n",
    "\n",
    "\n"
   ]
  },
  {
   "cell_type": "markdown",
   "metadata": {},
   "source": [
    "## 2) Splicing out introns\n",
    "\n",
    "**a)** \n",
    "Here’s a short section of genomic DNA:\n",
    "\n",
    "```\n",
    "ATCGATCGATCGATCGACTGACTAGTCATAGCTATGCATGTAGCTACTCGATCGATCGATCGATCGATCGATCGATCGATCGATCATGCTATCATCGATCGATATCGATGCATCGACTACTAT\n",
    "```\n",
    "\n",
    "It comprises two exons and an intron. The first exon runs from the start of the sequence to the sixty-third character, and the second exon runs from the ninety-first character to the end of the sequence. \n",
    "\n",
    "Write a program that will print just the coding regions of the DNA sequence, concatinated together."
   ]
  },
  {
   "cell_type": "code",
   "execution_count": null,
   "metadata": {
    "collapsed": false
   },
   "outputs": [],
   "source": [
    "seq = 'ATCGATCGATCGATCGACTGACTAGTCATAGCTATGCATGTAGCTACTCGATCGATCGATCGATCGATCGATCGATCGATCGATCATGCTATCATCGATCGATATCGATGCATCGACTACTAT'\n",
    "\n",
    "## your code goes here"
   ]
  },
  {
   "cell_type": "markdown",
   "metadata": {},
   "source": [
    "**b)** \n",
    "Using the sequence from **a**, write a program that will calculate what percentage of the DNA sequence is coding.\n",
    "  \n",
    "For example, if 63.54781234579% of the DNA sequence is coding, print:  \n",
    "  \n",
    "63.54781234579 % of the sequence is coding"
   ]
  },
  {
   "cell_type": "code",
   "execution_count": null,
   "metadata": {
    "collapsed": false
   },
   "outputs": [],
   "source": [
    "## your code goes here"
   ]
  },
  {
   "cell_type": "markdown",
   "metadata": {},
   "source": [
    "**c)**\n",
    "Using the sequence from **a**, write a program that will print out the original genomic DNA sequence with coding bases in uppercase and non-coding bases in lowercase."
   ]
  },
  {
   "cell_type": "code",
   "execution_count": null,
   "metadata": {
    "collapsed": false
   },
   "outputs": [],
   "source": [
    "## your code goes here"
   ]
  },
  {
   "cell_type": "markdown",
   "metadata": {},
   "source": [
    "## 3) Processing DNA\n",
    "\n",
    "The list `sequences` contains a number of DNA sequences as strings. Each sequence starts with the same 14 base pair fragment – a sequencing adapter that should have been removed. \n",
    "\n",
    "- Add to the list (at the end) a copy of the first sequence after removing the adapter.\n",
    "\n",
    "- Remove the first sequence from the list.\n",
    "\n",
    "- Calculate the precentage of 'A' in all the sequences together. Do that using method count and len function.\n",
    "\n",
    "Print the new list and the precentage of 'A'. You can assume the list contains 5 elements.\n",
    "\n",
    "For the example below, the new list should be:\n",
    "\n",
    "['ATTCGATTATAAGCACTGATCGATCGATCGATCGATCGATGCTATCGTCGT', \\\n",
    "'ATTCGATTATAAGCATCGATCACGATCTATCGTACGTATGCATATCGATATCGATCGTAGTC', \\\n",
    "'ATTCGATTATAAGCACTATCGATGATCTAGCTACGATCGTAGCTGTA', \\\n",
    "'ATTCGATTATAAGCACTAGCTAGTCTCGATGCATGATCAGCTTAGCTGATGATGCTATGCA', \\  \n",
    "'TCGATCGATCGATCGATCGATCGATCGATCGATCGATCGATC']\n",
    "\n",
    "Precentage of 'A': 27.37642585551331%"
   ]
  },
  {
   "cell_type": "code",
   "execution_count": null,
   "metadata": {
    "collapsed": false
   },
   "outputs": [],
   "source": [
    "sequences = ['ATTCGATTATAAGCTCGATCGATCGATCGATCGATCGATCGATCGATCGATCGATC', \\\n",
    "'ATTCGATTATAAGCACTGATCGATCGATCGATCGATCGATGCTATCGTCGT', \\\n",
    "'ATTCGATTATAAGCATCGATCACGATCTATCGTACGTATGCATATCGATATCGATCGTAGTC', \\\n",
    "'ATTCGATTATAAGCACTATCGATGATCTAGCTACGATCGTAGCTGTA', \\\n",
    "'ATTCGATTATAAGCACTAGCTAGTCTCGATGCATGATCAGCTTAGCTGATGATGCTATGCA']\n",
    "\n",
    "\n",
    "## your code goes here"
   ]
  },
  {
   "cell_type": "markdown",
   "metadata": {},
   "source": [
    "## 4) Multiple exons from genomic DNA\n",
    "\n",
    "The string `genomic_dna` contains a section of genomic DNA.\n",
    "\n",
    "The list `exons` contains 2 sets of start/stop positions of exons as string indices. \n",
    "Each exon is a separate list (within the list of exons) with two elements: the start and stop positions (including). \n",
    "\n",
    "Write a program that will extract the exon segments from `genomic_dna` using the positions in `exons`, concatenate them, and replace all 'T's buy 'U's. The program will print the new sequence.\n",
    "\n",
    "Example:  \n",
    "genomic_dna = 'TCGATCGTACCGTC'  \n",
    "exons = [[1, 4], [6, 10]]  \n",
    "The result is: 'CGAUGUACC'\n",
    "\n",
    "Pay attention:\n",
    "The numbers in the exons list are an example, the code should work without relying on these specific numbers.\n",
    "You can assume that exons contain 2 [start, stop] lists, with integers suitable for the genomic_dna length."
   ]
  },
  {
   "cell_type": "code",
   "execution_count": null,
   "metadata": {
    "collapsed": false
   },
   "outputs": [],
   "source": [
    "genomic_dna = 'TCGATCGTACCGTCGACGATGCTACGATCGTCGATCGTAGTCGATCATCGATCGATCGACTGATCGATCGATCGATCGATCGATATCGATCGATATCATCGATGCATCGATCATCGATCGATCGATCGATCGATCGATCATATGTCAGTCGATGCATCGTAGCATCGTATAGTAGCTACGTAGCTACGATCGATCGATCGATCGTAGCTAGCTAGCTAGATCGATCATCATCGTAGCTAGCTCGACTAGCTACGTACGATCGATGCATCGATCGTAGCTAGTACGATCGCGTAGCTAGCATGCTACGTAGATCGATCGATGCATGCTAGCTAGCTAGCTACGATCGATCGATCGATCGATCGATCGATCGATCGATCGATCGTAGCTAGCTACGATCGATGCTACGTAGATCGATCGCTAGTAGATCGATCGCTAGCTAGCTGACTAGTACGCTGCTAGTAGTCAGCTAGATCGATGCTAGTCA'\n",
    "exons = [[5, 58], [72, 133]] # [[start, stop], [start, stop]]\n",
    "\n",
    "## your code goes here"
   ]
  },
  {
   "cell_type": "markdown",
   "metadata": {},
   "source": [
    "\n",
    "## References\n",
    "\n",
    "Questions modified from [Python for Biologists](http://pythonforbiologists.com/index.php/introduction-to-python-for-biologists/lists-and-loops/), a great book by Martin Jones."
   ]
  }
 ],
 "metadata": {
  "kernelspec": {
   "display_name": "Python 3",
   "language": "python",
   "name": "python3"
  },
  "language_info": {
   "codemirror_mode": {
    "name": "ipython",
    "version": 3
   },
   "file_extension": ".py",
   "mimetype": "text/x-python",
   "name": "python",
   "nbconvert_exporter": "python",
   "pygments_lexer": "ipython3",
   "version": "3.5.1"
  }
 },
 "nbformat": 4,
 "nbformat_minor": 0
}
