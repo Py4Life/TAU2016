{
 "cells": [
  {
   "cell_type": "markdown",
   "metadata": {},
   "source": [
    "[![Py4Life](https://raw.githubusercontent.com/Py4Life/TAU2015/gh-pages/img/Py4Life-logo-small.png)](http://py4life.github.io/TAU2015/)\n",
    "## Lecture 3 - 16.3.2016     -     Dictionary & Functions\n",
    "### Last update: 18.2.2016\n",
    "### Tel-Aviv University / 0411-3122 / Spring 2016"
   ]
  },
  {
   "cell_type": "markdown",
   "metadata": {},
   "source": [
    "## Previously on Py4Life\n",
    "\n",
    "- Python\n",
    "- Variables\n",
    "- Operators\n",
    "- strings\n",
    "- lists\n",
    "- Flow control: conditions (if,elif,else) and loops (for,while)"
   ]
  },
  {
   "cell_type": "markdown",
   "metadata": {},
   "source": [
    "## In today's episode\n",
    "- Dictionaries\n",
    "- Functions\n",
    "- Arguments\n",
    "- Scopes"
   ]
  },
  {
   "cell_type": "markdown",
   "metadata": {},
   "source": [
    "## Dictionaries\n",
    "### Reminder - Lists\n",
    "List is a data structure used to store collections of elements (int, float, str etc.) in an <u>__ordered__</u> way."
   ]
  },
  {
   "cell_type": "code",
   "execution_count": 1,
   "metadata": {
    "collapsed": false
   },
   "outputs": [],
   "source": [
    "organisms = ['Pan troglodytes', 'Gallus gallus', 'Xenopus laevis', 'Vipera palaestinae']"
   ]
  },
  {
   "cell_type": "markdown",
   "metadata": {},
   "source": [
    "We access elements of lists by using their _index_:"
   ]
  },
  {
   "cell_type": "code",
   "execution_count": 2,
   "metadata": {
    "collapsed": false
   },
   "outputs": [
    {
     "name": "stdout",
     "output_type": "stream",
     "text": [
      "Pan troglodytes\n",
      "Xenopus laevis\n"
     ]
    }
   ],
   "source": [
    "print(organisms[0])\n",
    "print(organisms[2])"
   ]
  },
  {
   "cell_type": "markdown",
   "metadata": {},
   "source": [
    "We can iterate over the elements of a list using _for loop_:"
   ]
  },
  {
   "cell_type": "code",
   "execution_count": 4,
   "metadata": {
    "collapsed": false
   },
   "outputs": [
    {
     "name": "stdout",
     "output_type": "stream",
     "text": [
      "Pan troglodytes\n",
      "Gallus gallus\n",
      "Xenopus laevis\n",
      "Vipera palaestinae\n"
     ]
    }
   ],
   "source": [
    "for elem in organisms:\n",
    "    print(elem)"
   ]
  },
  {
   "cell_type": "markdown",
   "metadata": {},
   "source": [
    "__Dictionaries__ are another data structure used to store collections of elements, only this time they can be accessed through a _key_. Keys can be any immutable object - a string, an integer, float and so on. Each key is connected to a _value_."
   ]
  },
  {
   "cell_type": "markdown",
   "metadata": {},
   "source": [
    "### Format:\n",
    "- We define a dictionary using `{ }` brackets.\n",
    "- Each element in the dictionary is a couple of `key : value`\n",
    "- We seperate between the elements using `,`"
   ]
  },
  {
   "cell_type": "markdown",
   "metadata": {},
   "source": [
    "### Defining dictionaries:"
   ]
  },
  {
   "cell_type": "code",
   "execution_count": 5,
   "metadata": {
    "collapsed": false
   },
   "outputs": [],
   "source": [
    "organisms_classes = {'Pan troglodytes': 'Mammalia', 'Gallus gallus': 'Aves', 'Xenopus laevis': 'Amphibia', 'Vipera palaestinae': 'Reptilia'}"
   ]
  },
  {
   "cell_type": "markdown",
   "metadata": {},
   "source": [
    "In this dictionary, the _keys_ are the organisms and the _values_ are the class of each organism. Both are of type `str`."
   ]
  },
  {
   "cell_type": "markdown",
   "metadata": {},
   "source": [
    "Another example would be a dictionary representing the number of observations of various species:"
   ]
  },
  {
   "cell_type": "code",
   "execution_count": 6,
   "metadata": {
    "collapsed": false
   },
   "outputs": [],
   "source": [
    "observations = {'Equus zebra': 143,\n",
    "                'Hippopotamus amphibius': 27,\n",
    "                'Giraffa camelopardalis': 71,\n",
    "                'Panthera leo': 112}"
   ]
  },
  {
   "cell_type": "markdown",
   "metadata": {},
   "source": [
    "Here, the keys are of type `str` and the values are of type `int`. Any other combination could be used.\n",
    "![safari](https://encrypted-tbn3.gstatic.com/images?q=tbn:ANd9GcTL-7qevLJk3T6miuV7zzlxGqH0WFyEv8ejFqw7444QMEElRvkblg)"
   ]
  },
  {
   "cell_type": "markdown",
   "metadata": {},
   "source": [
    "### Accessing dictionary records\n",
    "Accessing a dictionary record is similar to what we did with lists, only this time we'll call a <u>_key_</u> instead of an _index_:"
   ]
  },
  {
   "cell_type": "code",
   "execution_count": 8,
   "metadata": {
    "collapsed": false
   },
   "outputs": [
    {
     "name": "stdout",
     "output_type": "stream",
     "text": [
      "Mammalia\n",
      "Aves\n"
     ]
    }
   ],
   "source": [
    "print(organisms_classes['Pan troglodytes'])\n",
    "print(organisms_classes['Gallus gallus'])"
   ]
  },
  {
   "cell_type": "markdown",
   "metadata": {},
   "source": [
    "We can get a list of the doctopnary's keys or values:"
   ]
  },
  {
   "cell_type": "code",
   "execution_count": 50,
   "metadata": {
    "collapsed": false
   },
   "outputs": [
    {
     "name": "stdout",
     "output_type": "stream",
     "text": [
      "dict_keys(['Xenopus laevis', 'Vipera palaestinae', 'Pan troglodytes', 'Gallus gallus', 'Danio rerio'])\n",
      "dict_values(['Amphibia', 'Reptilia', 'Mammals', 'Aves', 'Actinopterygii'])\n"
     ]
    }
   ],
   "source": [
    "print(organisms_classes.keys())\n",
    "print(organisms_classes.values())"
   ]
  },
  {
   "cell_type": "markdown",
   "metadata": {},
   "source": [
    "### Changing and adding records\n",
    "We can change the dictionary by simply assigning a new value to a key."
   ]
  },
  {
   "cell_type": "code",
   "execution_count": 9,
   "metadata": {
    "collapsed": false
   },
   "outputs": [
    {
     "name": "stdout",
     "output_type": "stream",
     "text": [
      "Mammals\n"
     ]
    }
   ],
   "source": [
    "organisms_classes['Pan troglodytes'] = 'Mammals'\n",
    "print(organisms_classes['Pan troglodytes'])"
   ]
  },
  {
   "cell_type": "markdown",
   "metadata": {},
   "source": [
    "Similarly, we can use this syntax to add new records: "
   ]
  },
  {
   "cell_type": "code",
   "execution_count": 10,
   "metadata": {
    "collapsed": false
   },
   "outputs": [
    {
     "name": "stdout",
     "output_type": "stream",
     "text": [
      "Actinopterygii\n"
     ]
    }
   ],
   "source": [
    "organisms_classes['Danio rerio'] = 'Actinopterygii'\n",
    "print(organisms_classes['Danio rerio'])"
   ]
  },
  {
   "cell_type": "markdown",
   "metadata": {},
   "source": [
    "__Note__: A dictionary may not contain multiple records with the same _key_, but it may contain many keys with the same _value_."
   ]
  },
  {
   "cell_type": "markdown",
   "metadata": {},
   "source": [
    "### Looping throgh dictionaries\n",
    "Remember the __for__ loop and how we used it to loop on lists?"
   ]
  },
  {
   "cell_type": "code",
   "execution_count": 11,
   "metadata": {
    "collapsed": false
   },
   "outputs": [
    {
     "name": "stdout",
     "output_type": "stream",
     "text": [
      "Pan troglodytes\n",
      "Gallus gallus\n",
      "Xenopus laevis\n",
      "Vipera palaestinae\n"
     ]
    }
   ],
   "source": [
    "for organism in organisms:\n",
    "    print(organism)"
   ]
  },
  {
   "cell_type": "markdown",
   "metadata": {},
   "source": [
    "Well, it also works on dictionaries! The for loop simply itterates over the _keys_ of the dictionary."
   ]
  },
  {
   "cell_type": "code",
   "execution_count": 13,
   "metadata": {
    "collapsed": false
   },
   "outputs": [
    {
     "name": "stdout",
     "output_type": "stream",
     "text": [
      "Xenopus laevis belongs to the Amphibia class.\n",
      "Vipera palaestinae belongs to the Reptilia class.\n",
      "Pan troglodytes belongs to the Mammals class.\n",
      "Gallus gallus belongs to the Aves class.\n",
      "Danio rerio belongs to the Actinopterygii class.\n"
     ]
    }
   ],
   "source": [
    "organisms_classes = {'Pan troglodytes': 'Mammals', 'Gallus gallus': 'Aves', 'Xenopus laevis': 'Amphibia', 'Vipera palaestinae': 'Reptilia', 'Danio rerio' : 'Actinopterygii'}\n",
    "for organism in organisms_classes:\n",
    "    print(organism, 'belongs to the', organisms_classes[organism], 'class.')"
   ]
  },
  {
   "cell_type": "markdown",
   "metadata": {},
   "source": [
    "Notice that dictionary items don't keep their original order."
   ]
  },
  {
   "cell_type": "markdown",
   "metadata": {},
   "source": [
    "We can even change values while looping:"
   ]
  },
  {
   "cell_type": "code",
   "execution_count": 14,
   "metadata": {
    "collapsed": false
   },
   "outputs": [
    {
     "name": "stdout",
     "output_type": "stream",
     "text": [
      "{'Panthera leo': True, 'Giraffa camelopardalis': True, 'Equus zebra': True, 'Hippopotamus amphibius': False}\n"
     ]
    }
   ],
   "source": [
    "for animal in observations:\n",
    "    if observations[animal] > 50:\n",
    "        observations[animal] = True\n",
    "    else:\n",
    "        observations[animal] = False\n",
    "print(observations)"
   ]
  },
  {
   "cell_type": "markdown",
   "metadata": {},
   "source": [
    "### Is it in the dictionary?\n",
    "We can check if a __key__ is in the dictionary using an _if_ statement:"
   ]
  },
  {
   "cell_type": "code",
   "execution_count": 15,
   "metadata": {
    "collapsed": false
   },
   "outputs": [
    {
     "data": {
      "text/plain": [
       "True"
      ]
     },
     "execution_count": 15,
     "metadata": {},
     "output_type": "execute_result"
    }
   ],
   "source": [
    "'Vipera palaestinae' in organisms_classes"
   ]
  },
  {
   "cell_type": "code",
   "execution_count": 16,
   "metadata": {
    "collapsed": false
   },
   "outputs": [
    {
     "data": {
      "text/plain": [
       "False"
      ]
     },
     "execution_count": 16,
     "metadata": {},
     "output_type": "execute_result"
    }
   ],
   "source": [
    "'Bos taurus' in organisms_classes"
   ]
  },
  {
   "cell_type": "code",
   "execution_count": 17,
   "metadata": {
    "collapsed": false
   },
   "outputs": [
    {
     "name": "stdout",
     "output_type": "stream",
     "text": [
      "Vipera palaestinae belongs to the Reptilia class.\n",
      "Bos taurus not found in dictionary.\n"
     ]
    }
   ],
   "source": [
    "new_organism = ['Vipera palaestinae', 'Bos taurus']\n",
    "for organism in new_organism:\n",
    "    if organism in organisms_classes:\n",
    "        print(organism, 'belongs to the', organisms_classes[organism], 'class.')\n",
    "    else:\n",
    "        print(organism, 'not found in dictionary.')"
   ]
  },
  {
   "cell_type": "markdown",
   "metadata": {},
   "source": [
    "## <span style=\"color:blue\">Class exercise 3A</span>"
   ]
  },
  {
   "cell_type": "markdown",
   "metadata": {},
   "source": [
    "1) Create a dictionary with the keys 'Name','Address' and 'Phone', insert your details as values, and use the dictionary to print a sentence such as \"My name is James Watson, I live in Cambridge and my phone number is 12345678\""
   ]
  },
  {
   "cell_type": "code",
   "execution_count": 19,
   "metadata": {
    "collapsed": false
   },
   "outputs": [
    {
     "name": "stdout",
     "output_type": "stream",
     "text": [
      "My name is James Watson , I live in Cambridge , my phone number is 12345678\n"
     ]
    }
   ],
   "source": [
    "# Create dictionary\n",
    "details_dict = {'Name': 'James Watson', 'Address': 'Cambridge', 'Phone': '12345678'}\n",
    "\n",
    "# print sentence\n",
    "print(\"My name is\",details_dict['Name'],\", I live in\",details_dict['Address'],\", my phone number is\",details_dict['Phone'])"
   ]
  },
  {
   "cell_type": "markdown",
   "metadata": {},
   "source": [
    "2) Given that the code below is a dictionary (named codon_table) where the keys represent codons and the values are the corresponding amino acids. Use the dictionary to translate the codons in the list (named seq_list) and print out the resulting sequence of amino acids.\n",
    "* Hint: to print without creating a newline, use `print(\"your print\", end='')`"
   ]
  },
  {
   "cell_type": "code",
   "execution_count": 20,
   "metadata": {
    "collapsed": false
   },
   "outputs": [
    {
     "name": "stdout",
     "output_type": "stream",
     "text": [
      "MQGISWRRP*"
     ]
    }
   ],
   "source": [
    "# Create codons dictionary\n",
    "bases = ['t', 'c', 'a', 'g']\n",
    "codons = [a+b+c for a in bases for b in bases for c in bases]\n",
    "amino_acids = 'FFLLSSSSYY**CC*WLLLLPPPPHHQQRRRRIIIMTTTTNNKKSSRRVVVVAAAADDEEGGGG'\n",
    "codon_table = dict(zip(codons, amino_acids))\n",
    "\n",
    "# Sequence list\n",
    "seq_list = [\"atg\",\"caa\",\"ggc\",\"ata\",\"tca\",\"tgg\",\"cga\",\"agg\",\"cct\",\"taa\"]\n",
    "\n",
    "# iterate on list and translate\n",
    "for codon in seq_list:\n",
    "    print(codon_table[codon], end='')"
   ]
  },
  {
   "cell_type": "markdown",
   "metadata": {},
   "source": [
    "## What's a function?\n",
    "### In mathematics:\n",
    "A function is like a _machine_, that (usually) takes a number, performs some mathematical process and returns another number.  \n",
    "For example, the function $f(x) = 2x + 6$  \n",
    "When the function takes 3 (that is, x = 3), it returns 2*3 + 6 = 12  \n",
    "And in 'pythonic':"
   ]
  },
  {
   "cell_type": "code",
   "execution_count": 21,
   "metadata": {
    "collapsed": false
   },
   "outputs": [
    {
     "name": "stdout",
     "output_type": "stream",
     "text": [
      "12\n"
     ]
    }
   ],
   "source": [
    "x = 3\n",
    "y = 2*x + 6\n",
    "print(y)"
   ]
  },
  {
   "cell_type": "markdown",
   "metadata": {},
   "source": [
    "### In computer science\n",
    "A function is a piece of code that performs some process. Like the mathematical concept, a function receives _inputs_ and returns _outputs_.  \n",
    "We _define_ functions with the __def__ command.  \n",
    "The general syntax is:  "
   ]
  },
  {
   "cell_type": "code",
   "execution_count": 22,
   "metadata": {
    "collapsed": false
   },
   "outputs": [
    {
     "ename": "SyntaxError",
     "evalue": "invalid syntax (<ipython-input-22-e73f96cd0bf6>, line 1)",
     "output_type": "error",
     "traceback": [
      "\u001b[1;36m  File \u001b[1;32m\"<ipython-input-22-e73f96cd0bf6>\"\u001b[1;36m, line \u001b[1;32m1\u001b[0m\n\u001b[1;33m    def function_name(input1, input2, input3,...):\u001b[0m\n\u001b[1;37m                                               ^\u001b[0m\n\u001b[1;31mSyntaxError\u001b[0m\u001b[1;31m:\u001b[0m invalid syntax\n"
     ]
    }
   ],
   "source": [
    "def function_name(input1, input2, input3,...):\n",
    "    # some processes\n",
    "    .\n",
    "    .\n",
    "    .\n",
    "    return output"
   ]
  },
  {
   "cell_type": "code",
   "execution_count": 23,
   "metadata": {
    "collapsed": false
   },
   "outputs": [],
   "source": [
    "def linear1(x):\n",
    "    y = 2*x + 6\n",
    "    return y"
   ]
  },
  {
   "cell_type": "markdown",
   "metadata": {},
   "source": [
    "Once a function is defined, we can call it whenever we need it (i.e. multiple times), with different inputs."
   ]
  },
  {
   "cell_type": "code",
   "execution_count": 24,
   "metadata": {
    "collapsed": false
   },
   "outputs": [
    {
     "name": "stdout",
     "output_type": "stream",
     "text": [
      "12\n"
     ]
    }
   ],
   "source": [
    "result1 = linear1(3)\n",
    "print(result1)"
   ]
  },
  {
   "cell_type": "code",
   "execution_count": 25,
   "metadata": {
    "collapsed": false
   },
   "outputs": [
    {
     "name": "stdout",
     "output_type": "stream",
     "text": [
      "20\n"
     ]
    }
   ],
   "source": [
    "result2 = linear1(7)\n",
    "print(result2)"
   ]
  },
  {
   "cell_type": "code",
   "execution_count": 27,
   "metadata": {
    "collapsed": false
   },
   "outputs": [
    {
     "name": "stdout",
     "output_type": "stream",
     "text": [
      "6\n",
      "8\n",
      "10\n",
      "12\n",
      "14\n",
      "16\n",
      "18\n",
      "20\n"
     ]
    }
   ],
   "source": [
    "for i in range(8):\n",
    "    print(linear1(i))"
   ]
  },
  {
   "cell_type": "markdown",
   "metadata": {},
   "source": [
    "A function may have more than one input, and they can also be other types of variables.  \n",
    "For example, the following function receives a __list__ of sequences and concatenates a given sequence __string__ to each sequence in the list. It then returns the new list."
   ]
  },
  {
   "cell_type": "code",
   "execution_count": 28,
   "metadata": {
    "collapsed": false
   },
   "outputs": [],
   "source": [
    "def concat_to_sequences(sequence_list, sequence_to_concat):\n",
    "    new_list = []\n",
    "    for seq in sequence_list:\n",
    "        new_list.append(seq + sequence_to_concat)\n",
    "    return new_list"
   ]
  },
  {
   "cell_type": "code",
   "execution_count": 29,
   "metadata": {
    "collapsed": false
   },
   "outputs": [
    {
     "name": "stdout",
     "output_type": "stream",
     "text": [
      "['AGTTAGAGTTA', 'TTACCAGTG', 'GGCAACTTTAGG']\n",
      "['AGTTAGAGTTAGGG', 'TTACCAGTGGGG', 'GGCAACTTTAGGGGG']\n"
     ]
    }
   ],
   "source": [
    "my_sequences = ['AGTTAGAGTTA', 'TTACCAGTG', 'GGCAACTTTAGG']\n",
    "new_sequences = concat_to_sequences(my_sequences, 'GGG')\n",
    "print(my_sequences)\n",
    "print(new_sequences)"
   ]
  },
  {
   "cell_type": "markdown",
   "metadata": {},
   "source": [
    "The inputs of a function are also called __Arguments__ or formal variables."
   ]
  },
  {
   "cell_type": "markdown",
   "metadata": {},
   "source": [
    "### Why do we need functions?\n",
    "So why bother? Can't we just write code as we did so far and avoid all that functions mess?  \n",
    "Functions are good for (at least) three reasons:\n",
    "* <u>Prevent code duplication</u> - if we perform the same process multiple times, we don't have to write it again every time. We just call the function, thereby making the code shorter and more readable and avoid errors.\n",
    "* <u>Modularity</u> - Your code can easily be separated to small components, which can be reused and recombined.\n",
    "* <u>Abstraction</u> - separating a complex task into smaller and more simple tasks."
   ]
  },
  {
   "cell_type": "markdown",
   "metadata": {},
   "source": [
    "### A biological example"
   ]
  },
  {
   "cell_type": "markdown",
   "metadata": {},
   "source": [
    "Now, let's use some of the stuff we've learned to write a function that finds the reverse complement of a given sequence. Let's start by finding the complement."
   ]
  },
  {
   "cell_type": "code",
   "execution_count": 30,
   "metadata": {
    "collapsed": false
   },
   "outputs": [],
   "source": [
    "def complement(sequence):\n",
    "    transcript_dict = {'A': 'T', 'T': 'A', 'G': 'C', 'C': 'G'}\n",
    "    complement = ''\n",
    "    for base in sequence:\n",
    "        complement += transcript_dict[base]\n",
    "    return complement"
   ]
  },
  {
   "cell_type": "code",
   "execution_count": 31,
   "metadata": {
    "collapsed": false
   },
   "outputs": [
    {
     "name": "stdout",
     "output_type": "stream",
     "text": [
      "TGCGATAATCTCCCGCTCTTCGATCTCCT\n"
     ]
    }
   ],
   "source": [
    "my_dna = 'ACGCTATTAGAGGGCGAGAAGCTAGAGGA'\n",
    "my_complement = complement(my_dna)\n",
    "print(my_complement)"
   ]
  },
  {
   "cell_type": "markdown",
   "metadata": {},
   "source": [
    "Now, let's write another function, that reverses a given sequences."
   ]
  },
  {
   "cell_type": "code",
   "execution_count": 32,
   "metadata": {
    "collapsed": false
   },
   "outputs": [],
   "source": [
    "def reverse_sequence(sequence):\n",
    "    reversed_seq = ''\n",
    "    seq_as_list = list(sequence)\n",
    "    for base in reversed(seq_as_list):\n",
    "        reversed_seq += base\n",
    "    return reversed_seq"
   ]
  },
  {
   "cell_type": "code",
   "execution_count": 33,
   "metadata": {
    "collapsed": false
   },
   "outputs": [
    {
     "name": "stdout",
     "output_type": "stream",
     "text": [
      "TCCTCTAGCTTCTCGCCCTCTAATAGCGT\n"
     ]
    }
   ],
   "source": [
    "my_reverse_complement = reverse_sequence(my_complement)\n",
    "print(my_reverse_complement)"
   ]
  },
  {
   "cell_type": "markdown",
   "metadata": {},
   "source": [
    "We can call functions _from within_ a function, thereby wrapping the two functions we have in a third function."
   ]
  },
  {
   "cell_type": "code",
   "execution_count": 34,
   "metadata": {
    "collapsed": false
   },
   "outputs": [],
   "source": [
    "def reverse_complement(sequence):\n",
    "    complement_seq = complement(sequence)\n",
    "    reverse_complement = reverse_sequence(complement_seq)\n",
    "    return reverse_complement"
   ]
  },
  {
   "cell_type": "code",
   "execution_count": 35,
   "metadata": {
    "collapsed": false
   },
   "outputs": [
    {
     "name": "stdout",
     "output_type": "stream",
     "text": [
      "TCCTCTAGCTTCTCGCCCTCTAATAGCGT\n"
     ]
    }
   ],
   "source": [
    "print(reverse_complement(my_dna))"
   ]
  },
  {
   "cell_type": "markdown",
   "metadata": {},
   "source": [
    "Fuctions don't __have__ to return anything. Sometimes they just print stuff to the screen or to a file (next lesson). For example, we can take the function we created above and simply replace 'return' with 'print':"
   ]
  },
  {
   "cell_type": "code",
   "execution_count": 36,
   "metadata": {
    "collapsed": false
   },
   "outputs": [],
   "source": [
    "def print_reverse_complement(sequence):\n",
    "    complement_seq = complement(sequence)\n",
    "    reverse_complement = reverse_sequence(complement_seq)\n",
    "    print(reverse_complement)"
   ]
  },
  {
   "cell_type": "code",
   "execution_count": 37,
   "metadata": {
    "collapsed": false
   },
   "outputs": [
    {
     "name": "stdout",
     "output_type": "stream",
     "text": [
      "TCCTCTAGCTTCTCGCCCTCTAATAGCGT\n",
      "None\n"
     ]
    }
   ],
   "source": [
    "a = print_reverse_complement(my_dna)\n",
    "print(a)"
   ]
  },
  {
   "cell_type": "markdown",
   "metadata": {},
   "source": [
    "So, what's the difference between __return__ and __print__???  \n",
    "As the names suggest, while __print__ just prints the output of the function, __return__ returns a value that can be stored within a variable. The difference is especially noticable when the output is not a string (e.g. list, dictionary etc). Even if the output is a string, __retun__ let's you further manipulate the output, while __print__ does not. "
   ]
  },
  {
   "cell_type": "code",
   "execution_count": 38,
   "metadata": {
    "collapsed": false
   },
   "outputs": [
    {
     "name": "stdout",
     "output_type": "stream",
     "text": [
      "ATGTCCTCTAGCTTCTCGCCCTCTAATAGCGTTAA\n"
     ]
    }
   ],
   "source": [
    "my_reverse_complement = reverse_complement(my_dna)\n",
    "final_sequence = \"ATG\" + my_reverse_complement + \"TAA\"\n",
    "print(final_sequence)"
   ]
  },
  {
   "cell_type": "markdown",
   "metadata": {},
   "source": [
    "### Documenting your functions\n",
    "It is considered good practice to add documentation to functions you write - what do they do, what's their input and output etc. It becomes very useful once you have lots of code that you want to reuse. If you document your functions, you won't have to read the whole code when you need them again.  \n",
    "Documenting functions is done by adding a '_docstring_' right under the definition line. It is enclosed by \"\"\". For example:"
   ]
  },
  {
   "cell_type": "code",
   "execution_count": 39,
   "metadata": {
    "collapsed": false
   },
   "outputs": [],
   "source": [
    "def reverse_complement(sequence):\n",
    "    \"\"\"\n",
    "    Receives a string of DNA sequence and returns a string of it's reverse complement\n",
    "    \"\"\"\n",
    "    complement_seq = complement(sequence)\n",
    "    reverse_complement = reverse_sequence(complement_seq)\n",
    "    return reverse_complement"
   ]
  },
  {
   "cell_type": "markdown",
   "metadata": {},
   "source": [
    "You can easily access the documentation of a function using the `help()` command."
   ]
  },
  {
   "cell_type": "code",
   "execution_count": 40,
   "metadata": {
    "collapsed": false
   },
   "outputs": [
    {
     "name": "stdout",
     "output_type": "stream",
     "text": [
      "Help on function reverse_complement in module __main__:\n",
      "\n",
      "reverse_complement(sequence)\n",
      "    Receives a string of DNA sequence and returns a string of it's reverse complement\n",
      "\n"
     ]
    }
   ],
   "source": [
    "help(reverse_complement)"
   ]
  },
  {
   "cell_type": "code",
   "execution_count": 41,
   "metadata": {
    "collapsed": false
   },
   "outputs": [
    {
     "name": "stdout",
     "output_type": "stream",
     "text": [
      "Help on built-in function len in module builtins:\n",
      "\n",
      "len(obj, /)\n",
      "    Return the number of items in a container.\n",
      "\n"
     ]
    }
   ],
   "source": [
    "help(len)"
   ]
  },
  {
   "cell_type": "markdown",
   "metadata": {},
   "source": [
    "## <span style=\"color:blue\">Class exercise 3B</span>"
   ]
  },
  {
   "cell_type": "markdown",
   "metadata": {},
   "source": [
    "1) Define a function that receives two sequences strings and __returns__ (not prints) the first five bases of the longer sequence. Test your function on the given sequences. Document your function.\n",
    "* Hint: recall the _len()_ function and string slicing."
   ]
  },
  {
   "cell_type": "code",
   "execution_count": 42,
   "metadata": {
    "collapsed": false
   },
   "outputs": [
    {
     "name": "stdout",
     "output_type": "stream",
     "text": [
      "aggtc\n"
     ]
    }
   ],
   "source": [
    "# define function\n",
    "def first_5_longer_sequence(seq1,seq2):\n",
    "    if len(seq1) > len(seq2):\n",
    "        return seq1[:5]\n",
    "    else:\n",
    "        return seq2[:5]\n",
    "    \n",
    "# Test function\n",
    "sequence1 = \"aggtctcggatataggcgcgatattta\"\n",
    "sequence2 = \"ttaagccacgcttcggatta\"\n",
    "first_5 = first_5_longer_sequence(sequence1, sequence2)\n",
    "print(first_5)"
   ]
  },
  {
   "cell_type": "markdown",
   "metadata": {},
   "source": [
    "2) Define a function that receives a sequence string and __returns__ a __list__ of the 1st, 3rd, 5th, 7th bases etc. Test your function on the given sequence."
   ]
  },
  {
   "cell_type": "code",
   "execution_count": 43,
   "metadata": {
    "collapsed": false
   },
   "outputs": [
    {
     "name": "stdout",
     "output_type": "stream",
     "text": [
      "['a', 'g', 'c', 'c', 'g', 't', 't', 'g', 'c', 'c', 'a', 'a', 't', 'a']\n"
     ]
    }
   ],
   "source": [
    "# define function\n",
    "def odd_bases(seq):\n",
    "    odd_bases_list = []\n",
    "    for i in range(len(seq)):\n",
    "        if i % 2 == 0:\n",
    "            odd_bases_list.append(seq[i])    \n",
    "    return odd_bases_list\n",
    "\n",
    "# or another option\n",
    "def odd_bases(seq):\n",
    "    odd_bases_list = list(seq[::2])   \n",
    "    return odd_bases_list\n",
    "\n",
    "# Test function\n",
    "odd_bases_list = odd_bases(\"aggtctcggatataggcgcgatattta\")\n",
    "print(odd_bases_list)"
   ]
  },
  {
   "cell_type": "markdown",
   "metadata": {},
   "source": [
    "### Built-in functions"
   ]
  },
  {
   "cell_type": "markdown",
   "metadata": {},
   "source": [
    "In fact, we've used functions before, without defining them first. For example: print(), type(), int(), len() etc. These functions are provided by the courtesy of Python developers. It is strongly adviced not to overwrite built-in functions with your own functions. That is, don't do:"
   ]
  },
  {
   "cell_type": "code",
   "execution_count": null,
   "metadata": {
    "collapsed": false
   },
   "outputs": [],
   "source": [
    "def len(lst):\n",
    "    .\n",
    "    .\n",
    "    ."
   ]
  },
  {
   "cell_type": "markdown",
   "metadata": {},
   "source": [
    "just use another name...  \n",
    "We can acquire more functions written by others by __importing__ them into our code. We'll do that on the next lesson."
   ]
  },
  {
   "cell_type": "markdown",
   "metadata": {},
   "source": [
    "## Scopes"
   ]
  },
  {
   "cell_type": "markdown",
   "metadata": {},
   "source": [
    "Assume we have the following function, that calculates the hypotenuse (יתר) given two sides of a right triangle. (Remember Pythagoras' theorem?)"
   ]
  },
  {
   "cell_type": "code",
   "execution_count": 44,
   "metadata": {
    "collapsed": false
   },
   "outputs": [],
   "source": [
    "def pythagoras(a,b):\n",
    "    hypo_square = a**2 + b**2\n",
    "    hypo = hypo_square**0.5"
   ]
  },
  {
   "cell_type": "markdown",
   "metadata": {},
   "source": [
    "And now we want to run our function on the sides _a_ = 3 and _b_ = 5. So we do:"
   ]
  },
  {
   "cell_type": "code",
   "execution_count": 45,
   "metadata": {
    "collapsed": false
   },
   "outputs": [
    {
     "ename": "NameError",
     "evalue": "name 'hypo' is not defined",
     "output_type": "error",
     "traceback": [
      "\u001b[1;31m---------------------------------------------------------------------------\u001b[0m",
      "\u001b[1;31mNameError\u001b[0m                                 Traceback (most recent call last)",
      "\u001b[1;32m<ipython-input-45-4c15aca3e7a8>\u001b[0m in \u001b[0;36m<module>\u001b[1;34m()\u001b[0m\n\u001b[0;32m      1\u001b[0m \u001b[0mpythagoras\u001b[0m\u001b[1;33m(\u001b[0m\u001b[1;36m3\u001b[0m\u001b[1;33m,\u001b[0m\u001b[1;36m5\u001b[0m\u001b[1;33m)\u001b[0m\u001b[1;33m\u001b[0m\u001b[0m\n\u001b[1;32m----> 2\u001b[1;33m \u001b[0mprint\u001b[0m\u001b[1;33m(\u001b[0m\u001b[0mhypo\u001b[0m\u001b[1;33m)\u001b[0m\u001b[1;33m\u001b[0m\u001b[0m\n\u001b[0m",
      "\u001b[1;31mNameError\u001b[0m: name 'hypo' is not defined"
     ]
    }
   ],
   "source": [
    "pythagoras(3,5)\n",
    "print(hypo)"
   ]
  },
  {
   "cell_type": "markdown",
   "metadata": {},
   "source": [
    "__What happened to our result???__  \n",
    "The answer is _Scope_!  \n",
    "The variable _hypo_ 'lives' only as long as the function is running. In other words, it exists only withing the _scope_ of the function, and so do _a, b_ and _hypo_square_!  \n",
    "If we try to print hypo from _within_ the function:"
   ]
  },
  {
   "cell_type": "code",
   "execution_count": 46,
   "metadata": {
    "collapsed": false
   },
   "outputs": [
    {
     "name": "stdout",
     "output_type": "stream",
     "text": [
      "5.830951894845301\n"
     ]
    }
   ],
   "source": [
    "def pythagoras(a,b):\n",
    "    hypo_square = a**2 + b**2\n",
    "    hypo = hypo_square**0.5\n",
    "    print(hypo)\n",
    "pythagoras(3,5)"
   ]
  },
  {
   "cell_type": "markdown",
   "metadata": {},
   "source": [
    "Or even better, we can use the __return__ statement to get the result. Like this:"
   ]
  },
  {
   "cell_type": "code",
   "execution_count": 47,
   "metadata": {
    "collapsed": false
   },
   "outputs": [
    {
     "name": "stdout",
     "output_type": "stream",
     "text": [
      "5.830951894845301\n"
     ]
    }
   ],
   "source": [
    "def pythagoras(a,b):\n",
    "    hypo_square = a**2 + b**2\n",
    "    hypo = hypo_square**0.5\n",
    "    return(hypo)\n",
    "\n",
    "result = pythagoras(3,5)\n",
    "print(result)"
   ]
  },
  {
   "cell_type": "markdown",
   "metadata": {},
   "source": [
    "For visualizing, you can try:  \n",
    "http://pythontutor.com/visualize.html#mode=edit  \n",
    "make sure you choos: `render all objects on the heap` in the middle selection window"
   ]
  },
  {
   "cell_type": "markdown",
   "metadata": {},
   "source": [
    "## Fin\n",
    "This notebook is part of the _Python Programming for Life Sciences Graduate Students_ course given in Tel-Aviv University, Spring 2016.\n",
    "\n",
    "The notebook was written using [Python](http://pytho.org/) 3.5.1 and [IPython](http://ipython.org/) 2.1.0 (download from [ANACONDA](https://www.continuum.io/downloads)).\n",
    "\n",
    "The code is available at https://github.com//Py4Life/TAU2016/blob/master/lecture3.ipynb.\n",
    "\n",
    "The notebook can be viewed online at http://nbviewer.ipython.org//Py4Life/TAU2016/Py4Life/blob/master/lecture3.ipynb.\n",
    "\n",
    "The notebook is also available as a PDF at https://github.com//Py4Life/TAU2016/blob/master/lecture3.pdf?raw=true.\n",
    "\n",
    "This work is licensed under a Creative Commons Attribution-ShareAlike 3.0 Unported License.\n",
    "\n",
    "![Python logo](https://www.python.org/static/community_logos/python-logo.png)"
   ]
  },
  {
   "cell_type": "code",
   "execution_count": null,
   "metadata": {
    "collapsed": true
   },
   "outputs": [],
   "source": []
  }
 ],
 "metadata": {
  "kernelspec": {
   "display_name": "Python 3",
   "language": "python",
   "name": "python3"
  },
  "language_info": {
   "codemirror_mode": {
    "name": "ipython",
    "version": 3
   },
   "file_extension": ".py",
   "mimetype": "text/x-python",
   "name": "python",
   "nbconvert_exporter": "python",
   "pygments_lexer": "ipython3",
   "version": "3.5.1"
  }
 },
 "nbformat": 4,
 "nbformat_minor": 0
}
